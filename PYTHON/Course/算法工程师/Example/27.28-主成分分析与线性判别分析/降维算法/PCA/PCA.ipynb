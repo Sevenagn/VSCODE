{
 "cells": [
  {
   "cell_type": "markdown",
   "metadata": {},
   "source": [
    "数据读取"
   ]
  },
  {
   "cell_type": "code",
   "execution_count": 1,
   "metadata": {},
   "outputs": [
    {
     "data": {
      "text/html": [
       "<div>\n",
       "<style scoped>\n",
       "    .dataframe tbody tr th:only-of-type {\n",
       "        vertical-align: middle;\n",
       "    }\n",
       "\n",
       "    .dataframe tbody tr th {\n",
       "        vertical-align: top;\n",
       "    }\n",
       "\n",
       "    .dataframe thead th {\n",
       "        text-align: right;\n",
       "    }\n",
       "</style>\n",
       "<table border=\"1\" class=\"dataframe\">\n",
       "  <thead>\n",
       "    <tr style=\"text-align: right;\">\n",
       "      <th></th>\n",
       "      <th>sepal_len</th>\n",
       "      <th>sepal_wid</th>\n",
       "      <th>petal_len</th>\n",
       "      <th>petal_wid</th>\n",
       "      <th>class</th>\n",
       "    </tr>\n",
       "  </thead>\n",
       "  <tbody>\n",
       "    <tr>\n",
       "      <th>0</th>\n",
       "      <td>4.9</td>\n",
       "      <td>3.0</td>\n",
       "      <td>1.4</td>\n",
       "      <td>0.2</td>\n",
       "      <td>Iris-setosa</td>\n",
       "    </tr>\n",
       "    <tr>\n",
       "      <th>1</th>\n",
       "      <td>4.7</td>\n",
       "      <td>3.2</td>\n",
       "      <td>1.3</td>\n",
       "      <td>0.2</td>\n",
       "      <td>Iris-setosa</td>\n",
       "    </tr>\n",
       "    <tr>\n",
       "      <th>2</th>\n",
       "      <td>4.6</td>\n",
       "      <td>3.1</td>\n",
       "      <td>1.5</td>\n",
       "      <td>0.2</td>\n",
       "      <td>Iris-setosa</td>\n",
       "    </tr>\n",
       "    <tr>\n",
       "      <th>3</th>\n",
       "      <td>5.0</td>\n",
       "      <td>3.6</td>\n",
       "      <td>1.4</td>\n",
       "      <td>0.2</td>\n",
       "      <td>Iris-setosa</td>\n",
       "    </tr>\n",
       "    <tr>\n",
       "      <th>4</th>\n",
       "      <td>5.4</td>\n",
       "      <td>3.9</td>\n",
       "      <td>1.7</td>\n",
       "      <td>0.4</td>\n",
       "      <td>Iris-setosa</td>\n",
       "    </tr>\n",
       "  </tbody>\n",
       "</table>\n",
       "</div>"
      ],
      "text/plain": [
       "   sepal_len  sepal_wid  petal_len  petal_wid        class\n",
       "0        4.9        3.0        1.4        0.2  Iris-setosa\n",
       "1        4.7        3.2        1.3        0.2  Iris-setosa\n",
       "2        4.6        3.1        1.5        0.2  Iris-setosa\n",
       "3        5.0        3.6        1.4        0.2  Iris-setosa\n",
       "4        5.4        3.9        1.7        0.4  Iris-setosa"
      ]
     },
     "execution_count": 1,
     "metadata": {},
     "output_type": "execute_result"
    }
   ],
   "source": [
    "import numpy as np\n",
    "import pandas as pd\n",
    "\n",
    "# 读取数据集\n",
    "df = pd.read_csv('iris.data')\n",
    "# 原始数据没有给定列名的时候需要我们自己加上\n",
    "df.columns=['sepal_len', 'sepal_wid', 'petal_len', 'petal_wid', 'class']\n",
    "df.head()"
   ]
  },
  {
   "cell_type": "code",
   "execution_count": 2,
   "metadata": {
    "collapsed": true
   },
   "outputs": [],
   "source": [
    "# 把数据分成特征和标签\n",
    "\n",
    "X = df.iloc[:,0:4].values\n",
    "y = df.iloc[:,4].values"
   ]
  },
  {
   "cell_type": "code",
   "execution_count": 3,
   "metadata": {
    "scrolled": true
   },
   "outputs": [
    {
     "data": {
      "image/png": "[encoded data removed]",
      "text/plain": [
       "<Figure size 576x432 with 4 Axes>"
      ]
     },
     "metadata": {
      "needs_background": "light"
     },
     "output_type": "display_data"
    }
   ],
   "source": [
    "from matplotlib import pyplot as plt\n",
    "\n",
    "# 展示我们标签用的\n",
    "label_dict = {1: 'Iris-Setosa',\n",
    "              2: 'Iris-Versicolor',\n",
    "              3: 'Iris-Virgnica'}\n",
    "\n",
    "# 展示特征用的\n",
    "feature_dict = {0: 'sepal length [cm]',\n",
    "                1: 'sepal width [cm]',\n",
    "                2: 'petal length [cm]',\n",
    "                3: 'petal width [cm]'}\n",
    "\n",
    "# 指定绘图区域大小\n",
    "plt.figure(figsize=(8, 6))\n",
    "for cnt in range(4):\n",
    "    # 这里用子图来呈现4个特征\n",
    "    plt.subplot(2, 2, cnt+1)\n",
    "    for lab in ('Iris-setosa', 'Iris-versicolor', 'Iris-virginica'):\n",
    "        plt.hist(X[y==lab, cnt],\n",
    "                     label=lab,\n",
    "                     bins=10,\n",
    "                     alpha=0.3,)\n",
    "    plt.xlabel(feature_dict[cnt])\n",
    "    plt.legend(loc='upper right', fancybox=True, fontsize=8)\n",
    "\n",
    "plt.tight_layout()\n",
    "plt.show()"
   ]
  },
  {
   "cell_type": "markdown",
   "metadata": {},
   "source": [
    "一般情况都是先对数据进行标准化处理"
   ]
  },
  {
   "cell_type": "code",
   "execution_count": 4,
   "metadata": {
    "collapsed": true
   },
   "outputs": [],
   "source": [
    "from sklearn.preprocessing import StandardScaler\n",
    "X_std = StandardScaler().fit_transform(X)"
   ]
  },
  {
   "cell_type": "markdown",
   "metadata": {},
   "source": [
    "计算协方差矩阵"
   ]
  },
  {
   "cell_type": "code",
   "execution_count": 5,
   "metadata": {},
   "outputs": [
    {
     "name": "stdout",
     "output_type": "stream",
     "text": [
      "协方差矩阵 \n",
      "[[ 1.00675676 -0.10448539  0.87716999  0.82249094]\n",
      " [-0.10448539  1.00675676 -0.41802325 -0.35310295]\n",
      " [ 0.87716999 -0.41802325  1.00675676  0.96881642]\n",
      " [ 0.82249094 -0.35310295  0.96881642  1.00675676]]\n"
     ]
    }
   ],
   "source": [
    "mean_vec = np.mean(X_std, axis=0)\n",
    "cov_mat = (X_std - mean_vec).T.dot((X_std - mean_vec)) / (X_std.shape[0]-1)\n",
    "print('协方差矩阵 \\n%s' %cov_mat)"
   ]
  },
  {
   "cell_type": "code",
   "execution_count": 6,
   "metadata": {},
   "outputs": [
    {
     "name": "stdout",
     "output_type": "stream",
     "text": [
      "NumPy 计算协方差矩阵: \n",
      "[[ 1.00675676 -0.10448539  0.87716999  0.82249094]\n",
      " [-0.10448539  1.00675676 -0.41802325 -0.35310295]\n",
      " [ 0.87716999 -0.41802325  1.00675676  0.96881642]\n",
      " [ 0.82249094 -0.35310295  0.96881642  1.00675676]]\n"
     ]
    }
   ],
   "source": [
    "print('NumPy 计算协方差矩阵: \\n%s' %np.cov(X_std.T))"
   ]
  },
  {
   "cell_type": "markdown",
   "metadata": {},
   "source": [
    "计算特征向量与特征值"
   ]
  },
  {
   "cell_type": "code",
   "execution_count": 7,
   "metadata": {},
   "outputs": [
    {
     "name": "stdout",
     "output_type": "stream",
     "text": [
      "特征向量 \n",
      "[[ 0.52308496 -0.36956962 -0.72154279  0.26301409]\n",
      " [-0.25956935 -0.92681168  0.2411952  -0.12437342]\n",
      " [ 0.58184289 -0.01912775  0.13962963 -0.80099722]\n",
      " [ 0.56609604 -0.06381646  0.63380158  0.52321917]]\n",
      "\n",
      "特征值 \n",
      "[2.92442837 0.93215233 0.14946373 0.02098259]\n"
     ]
    }
   ],
   "source": [
    "cov_mat = np.cov(X_std.T)\n",
    "\n",
    "eig_vals, eig_vecs = np.linalg.eig(cov_mat)\n",
    "\n",
    "print('特征向量 \\n%s' %eig_vecs)\n",
    "print('\\n特征值 \\n%s' %eig_vals)"
   ]
  },
  {
   "cell_type": "code",
   "execution_count": 8,
   "metadata": {},
   "outputs": [
    {
     "name": "stdout",
     "output_type": "stream",
     "text": [
      "[(2.9244283691111135, array([ 0.52308496, -0.25956935,  0.58184289,  0.56609604])), (0.9321523302535066, array([-0.36956962, -0.92681168, -0.01912775, -0.06381646])), (0.1494637348981336, array([-0.72154279,  0.2411952 ,  0.13962963,  0.63380158])), (0.02098259276427038, array([ 0.26301409, -0.12437342, -0.80099722,  0.52321917]))]\n",
      "----------\n",
      "特征值又大到小排序结果:\n",
      "2.9244283691111135\n",
      "0.9321523302535066\n",
      "0.1494637348981336\n",
      "0.02098259276427038\n"
     ]
    }
   ],
   "source": [
    "# 把特征值和特征向量对应起来\n",
    "eig_pairs = [(np.abs(eig_vals[i]), eig_vecs[:,i]) for i in range(len(eig_vals))]\n",
    "print (eig_pairs)\n",
    "print ('----------')\n",
    "# 把它们按照特征值大小进行排序\n",
    "eig_pairs.sort(key=lambda x: x[0], reverse=True)\n",
    "\n",
    "# 打印排序结果\n",
    "print('特征值又大到小排序结果:')\n",
    "for i in eig_pairs:\n",
    "    print(i[0])"
   ]
  },
  {
   "cell_type": "markdown",
   "metadata": {},
   "source": [
    "累加结果"
   ]
  },
  {
   "cell_type": "code",
   "execution_count": 9,
   "metadata": {},
   "outputs": [
    {
     "name": "stdout",
     "output_type": "stream",
     "text": [
      "[72.6200333269203, 23.14740685864414, 3.7115155645845284, 0.5210442498510098]\n"
     ]
    },
    {
     "data": {
      "text/plain": [
       "array([ 72.62003333,  95.76744019,  99.47895575, 100.        ])"
      ]
     },
     "execution_count": 9,
     "metadata": {},
     "output_type": "execute_result"
    }
   ],
   "source": [
    "# 计算累加结果\n",
    "tot = sum(eig_vals)\n",
    "var_exp = [(i / tot)*100 for i in sorted(eig_vals, reverse=True)]\n",
    "print (var_exp)\n",
    "cum_var_exp = np.cumsum(var_exp)\n",
    "cum_var_exp"
   ]
  },
  {
   "cell_type": "code",
   "execution_count": 10,
   "metadata": {},
   "outputs": [
    {
     "name": "stdout",
     "output_type": "stream",
     "text": [
      "[1 2 3 4]\n",
      "-----------\n",
      "[ 1  3  6 10]\n"
     ]
    }
   ],
   "source": [
    "a = np.array([1,2,3,4])\n",
    "print (a)\n",
    "print ('-----------')\n",
    "print (np.cumsum(a))"
   ]
  },
  {
   "cell_type": "code",
   "execution_count": 11,
   "metadata": {},
   "outputs": [
    {
     "data": {
      "image/png": "[encoded data removed]",
      "text/plain": [
       "<Figure size 432x288 with 1 Axes>"
      ]
     },
     "metadata": {
      "needs_background": "light"
     },
     "output_type": "display_data"
    }
   ],
   "source": [
    "\n",
    "plt.figure(figsize=(6, 4))\n",
    "\n",
    "plt.bar(range(4), var_exp, alpha=0.5, align='center',\n",
    "            label='individual explained variance')\n",
    "plt.step(range(4), cum_var_exp, where='mid',\n",
    "             label='cumulative explained variance')\n",
    "plt.ylabel('Explained variance ratio')\n",
    "plt.xlabel('Principal components')\n",
    "plt.legend(loc='best')\n",
    "plt.tight_layout()\n",
    "plt.show()"
   ]
  },
  {
   "cell_type": "code",
   "execution_count": 12,
   "metadata": {},
   "outputs": [
    {
     "name": "stdout",
     "output_type": "stream",
     "text": [
      "Matrix W:\n",
      " [[ 0.52308496 -0.36956962]\n",
      " [-0.25956935 -0.92681168]\n",
      " [ 0.58184289 -0.01912775]\n",
      " [ 0.56609604 -0.06381646]]\n"
     ]
    }
   ],
   "source": [
    "matrix_w = np.hstack((eig_pairs[0][1].reshape(4,1),\n",
    "                      eig_pairs[1][1].reshape(4,1)))\n",
    "\n",
    "print('Matrix W:\\n', matrix_w)"
   ]
  },
  {
   "cell_type": "code",
   "execution_count": 13,
   "metadata": {},
   "outputs": [
    {
     "data": {
      "text/plain": [
       "array([[-2.10795032,  0.64427554],\n",
       "       [-2.38797131,  0.30583307],\n",
       "       [-2.32487909,  0.56292316],\n",
       "       [-2.40508635, -0.687591  ],\n",
       "       [-2.08320351, -1.53025171],\n",
       "       [-2.4636848 , -0.08795413],\n",
       "       [-2.25174963, -0.25964365],\n",
       "       [-2.3645813 ,  1.08255676],\n",
       "       [-2.20946338,  0.43707676],\n",
       "       [-2.17862017, -1.08221046],\n",
       "       [-2.34525657, -0.17122946],\n",
       "       [-2.24590315,  0.6974389 ],\n",
       "       [-2.66214582,  0.92447316],\n",
       "       [-2.2050227 , -1.90150522],\n",
       "       [-2.25993023, -2.73492274],\n",
       "       [-2.21591283, -1.52588897],\n",
       "       [-2.20705382, -0.52623535],\n",
       "       [-1.9077081 , -1.4415791 ],\n",
       "       [-2.35411558, -1.17088308],\n",
       "       [-1.93202643, -0.44083479],\n",
       "       [-2.21942518, -0.96477499],\n",
       "       [-2.79116421, -0.50421849],\n",
       "       [-1.83814105, -0.11729122],\n",
       "       [-2.24572458, -0.17450151],\n",
       "       [-1.97825353,  0.59734172],\n",
       "       [-2.06935091, -0.27755619],\n",
       "       [-2.18514506, -0.56366755],\n",
       "       [-2.15824269, -0.34805785],\n",
       "       [-2.28843932,  0.30256102],\n",
       "       [-2.16501749,  0.47232759],\n",
       "       [-1.8491597 , -0.45547527],\n",
       "       [-2.62023392, -1.84237072],\n",
       "       [-2.44885384, -2.1984673 ],\n",
       "       [-2.20946338,  0.43707676],\n",
       "       [-2.23112223,  0.17266644],\n",
       "       [-2.06147331, -0.6957435 ],\n",
       "       [-2.20946338,  0.43707676],\n",
       "       [-2.45783833,  0.86912843],\n",
       "       [-2.1884075 , -0.30439609],\n",
       "       [-2.30357329, -0.48039222],\n",
       "       [-1.89932763,  2.31759817],\n",
       "       [-2.57799771,  0.4400904 ],\n",
       "       [-1.98020921, -0.50889705],\n",
       "       [-2.14679556, -1.18365675],\n",
       "       [-2.09668176,  0.68061705],\n",
       "       [-2.39554894, -1.16356284],\n",
       "       [-2.41813611,  0.34949483],\n",
       "       [-2.24196231, -1.03745802],\n",
       "       [-2.22484727, -0.04403395],\n",
       "       [ 1.09225538, -0.86148748],\n",
       "       [ 0.72045861, -0.59920238],\n",
       "       [ 1.2299583 , -0.61280832],\n",
       "       [ 0.37598859,  1.756516  ],\n",
       "       [ 1.05729685,  0.21303055],\n",
       "       [ 0.36816104,  0.58896262],\n",
       "       [ 0.73800214, -0.77956125],\n",
       "       [-0.52021731,  1.84337921],\n",
       "       [ 0.9113379 , -0.02941906],\n",
       "       [-0.01292322,  1.02537703],\n",
       "       [-0.15020174,  2.65452146],\n",
       "       [ 0.42437533,  0.05686991],\n",
       "       [ 0.52894687,  1.77250558],\n",
       "       [ 0.70241525,  0.18484154],\n",
       "       [-0.05385675,  0.42901221],\n",
       "       [ 0.86277668, -0.50943908],\n",
       "       [ 0.33388091,  0.18785518],\n",
       "       [ 0.13504146,  0.7883247 ],\n",
       "       [ 1.19457128,  1.63549265],\n",
       "       [ 0.13677262,  1.30063807],\n",
       "       [ 0.72711201, -0.40394501],\n",
       "       [ 0.45564294,  0.41540628],\n",
       "       [ 1.21038365,  0.94282042],\n",
       "       [ 0.61327355,  0.4161824 ],\n",
       "       [ 0.68512164,  0.06335788],\n",
       "       [ 0.85951424, -0.25016762],\n",
       "       [ 1.23906722,  0.08500278],\n",
       "       [ 1.34575245, -0.32669695],\n",
       "       [ 0.64732915,  0.22336443],\n",
       "       [-0.06728496,  1.05414028],\n",
       "       [ 0.10033285,  1.56100021],\n",
       "       [-0.00745518,  1.57050182],\n",
       "       [ 0.2179082 ,  0.77368423],\n",
       "       [ 1.04116321,  0.63744742],\n",
       "       [ 0.20719664,  0.27736006],\n",
       "       [ 0.42154138, -0.85764157],\n",
       "       [ 1.03691937, -0.52112206],\n",
       "       [ 1.015435  ,  1.39413373],\n",
       "       [ 0.0519502 ,  0.20903977],\n",
       "       [ 0.25582921,  1.32747797],\n",
       "       [ 0.25384813,  1.11700714],\n",
       "       [ 0.60915822, -0.02858679],\n",
       "       [ 0.31116522,  0.98711256],\n",
       "       [-0.39679548,  2.01314578],\n",
       "       [ 0.26536661,  0.85150613],\n",
       "       [ 0.07385897,  0.17160757],\n",
       "       [ 0.20854936,  0.37771566],\n",
       "       [ 0.55843737,  0.15286277],\n",
       "       [-0.47853403,  1.53421644],\n",
       "       [ 0.23545172,  0.59332536],\n",
       "       [ 1.8408037 , -0.86943848],\n",
       "       [ 1.13831104,  0.70171953],\n",
       "       [ 2.19615974, -0.54916658],\n",
       "       [ 1.42613827,  0.05187679],\n",
       "       [ 1.8575403 , -0.28797217],\n",
       "       [ 2.74511173, -0.78056359],\n",
       "       [ 0.34010583,  1.5568955 ],\n",
       "       [ 2.29180093, -0.40328242],\n",
       "       [ 1.98618025,  0.72876171],\n",
       "       [ 2.26382116, -1.91685818],\n",
       "       [ 1.35591821, -0.69255356],\n",
       "       [ 1.58471851,  0.43102351],\n",
       "       [ 1.87342402, -0.41054652],\n",
       "       [ 1.23656166,  1.16818977],\n",
       "       [ 1.45128483,  0.4451459 ],\n",
       "       [ 1.58276283, -0.67521526],\n",
       "       [ 1.45956552, -0.25105642],\n",
       "       [ 2.43560434, -2.55096977],\n",
       "       [ 3.29752602,  0.01266612],\n",
       "       [ 1.23377366,  1.71954411],\n",
       "       [ 2.03218282, -0.90334021],\n",
       "       [ 0.95980311,  0.57047585],\n",
       "       [ 2.88717988, -0.38895776],\n",
       "       [ 1.31405636,  0.48854962],\n",
       "       [ 1.69619746, -1.01153249],\n",
       "       [ 1.94868773, -0.99881497],\n",
       "       [ 1.1574572 ,  0.31987373],\n",
       "       [ 1.007133  , -0.06550254],\n",
       "       [ 1.7733922 ,  0.19641059],\n",
       "       [ 1.85327106, -0.55077372],\n",
       "       [ 2.4234788 , -0.2397454 ],\n",
       "       [ 2.31353522, -2.62038074],\n",
       "       [ 1.84800289,  0.18799967],\n",
       "       [ 1.09649923,  0.29708201],\n",
       "       [ 1.1812503 ,  0.81858241],\n",
       "       [ 2.79178861, -0.83668445],\n",
       "       [ 1.57340399, -1.07118383],\n",
       "       [ 1.33614369, -0.420823  ],\n",
       "       [ 0.91061354, -0.01965942],\n",
       "       [ 1.84350913, -0.66872729],\n",
       "       [ 2.00701161, -0.60663655],\n",
       "       [ 1.89319854, -0.68227708],\n",
       "       [ 1.13831104,  0.70171953],\n",
       "       [ 2.03519535, -0.86076914],\n",
       "       [ 1.99464025, -1.04517619],\n",
       "       [ 1.85977129, -0.37934387],\n",
       "       [ 1.54200377,  0.90808604],\n",
       "       [ 1.50925493, -0.26460621],\n",
       "       [ 1.3690965 , -1.01583909],\n",
       "       [ 0.94680339,  0.02182097]])"
      ]
     },
     "execution_count": 13,
     "metadata": {},
     "output_type": "execute_result"
    }
   ],
   "source": [
    "Y = X_std.dot(matrix_w)\n",
    "Y"
   ]
  },
  {
   "cell_type": "code",
   "execution_count": 14,
   "metadata": {},
   "outputs": [
    {
     "data": {
      "image/png": "[encoded data removed]",
      "text/plain": [
       "<Figure size 432x288 with 1 Axes>"
      ]
     },
     "metadata": {
      "needs_background": "light"
     },
     "output_type": "display_data"
    }
   ],
   "source": [
    "plt.figure(figsize=(6, 4))\n",
    "for lab, col in zip(('Iris-setosa', 'Iris-versicolor', 'Iris-virginica'),\n",
    "                        ('blue', 'red', 'green')):\n",
    "     plt.scatter(X[y==lab, 0],\n",
    "                X[y==lab, 1],\n",
    "                label=lab,\n",
    "                c=col)\n",
    "plt.xlabel('sepal_len')\n",
    "plt.ylabel('sepal_wid')\n",
    "plt.legend(loc='best')\n",
    "plt.tight_layout()\n",
    "plt.show()"
   ]
  },
  {
   "cell_type": "code",
   "execution_count": 15,
   "metadata": {},
   "outputs": [
    {
     "data": {
      "image/png": "[encoded data removed]",
      "text/plain": [
       "<Figure size 432x288 with 1 Axes>"
      ]
     },
     "metadata": {
      "needs_background": "light"
     },
     "output_type": "display_data"
    }
   ],
   "source": [
    "plt.figure(figsize=(6, 4))\n",
    "for lab, col in zip(('Iris-setosa', 'Iris-versicolor', 'Iris-virginica'),\n",
    "                        ('blue', 'red', 'green')):\n",
    "     plt.scatter(Y[y==lab, 0],\n",
    "                Y[y==lab, 1],\n",
    "                label=lab,\n",
    "                c=col)\n",
    "plt.xlabel('Principal Component 1')\n",
    "plt.ylabel('Principal Component 2')\n",
    "plt.legend(loc='lower center')\n",
    "plt.tight_layout()\n",
    "plt.show()"
   ]
  }
 ],
 "metadata": {
  "anaconda-cloud": {},
  "kernelspec": {
   "display_name": "Python 3.10.5 64-bit",
   "language": "python",
   "name": "python3"
  },
  "language_info": {
   "codemirror_mode": {
    "name": "ipython",
    "version": 3
   },
   "file_extension": ".py",
   "mimetype": "text/x-python",
   "name": "python",
   "nbconvert_exporter": "python",
   "pygments_lexer": "ipython3",
   "version": "3.10.5"
  },
  "vscode": {
   "interpreter": {
    "hash": "06d577494bdf8cb76a4644bbe9c33e78b132e35386398eebe57a598d5aeb24cf"
   }
  }
 },
 "nbformat": 4,
 "nbformat_minor": 1
}
