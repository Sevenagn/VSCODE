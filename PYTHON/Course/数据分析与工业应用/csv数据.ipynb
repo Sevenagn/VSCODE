{
 "cells": [
  {
   "cell_type": "code",
   "execution_count": 51,
   "metadata": {},
   "outputs": [],
   "source": [
    "import pandas as pd\n",
    "import numpy as np\n",
    "import torch"
   ]
  },
  {
   "cell_type": "code",
   "execution_count": 52,
   "metadata": {},
   "outputs": [
    {
     "data": {
      "text/plain": [
       "(42000, 785)"
      ]
     },
     "execution_count": 52,
     "metadata": {},
     "output_type": "execute_result"
    }
   ],
   "source": [
    "df=pd.read_csv(r'C:\\Users\\seven\\Downloads\\digit.csv')\n",
    "A = df.to_numpy()\n",
    "A.shape"
   ]
  },
  {
   "cell_type": "code",
   "execution_count": 53,
   "metadata": {},
   "outputs": [
    {
     "data": {
      "text/plain": [
       "(42000, 784)"
      ]
     },
     "execution_count": 53,
     "metadata": {},
     "output_type": "execute_result"
    }
   ],
   "source": [
    "Y = A[:,0]\n",
    "X = A[:,1:]\n",
    "X.shape"
   ]
  },
  {
   "cell_type": "code",
   "execution_count": 54,
   "metadata": {},
   "outputs": [
    {
     "data": {
      "text/plain": [
       "(14000, 3, 28, 28)"
      ]
     },
     "execution_count": 54,
     "metadata": {},
     "output_type": "execute_result"
    }
   ],
   "source": [
    "X=np.reshape(X,(-1,28,28,3))\n",
    "X = X.astype(np.float32)\n",
    "X = X.transpose((0,3,1,2))\n",
    "X.shape"
   ]
  },
  {
   "cell_type": "code",
   "execution_count": 55,
   "metadata": {},
   "outputs": [],
   "source": [
    "from torch.utils.data import DataLoader\n",
    "\n",
    "class my_dataset(torch.utils.data.Dataset):\n",
    "    def __init__(self, ):\n",
    "        pass\n",
    "\n",
    "    def __getitem__(self, index):\n",
    "        return X[index],Y[index]\n",
    "\n",
    "    def __len__(self):\n",
    "        return len(X)\n",
    "\n",
    "ds=my_dataset()"
   ]
  },
  {
   "cell_type": "code",
   "execution_count": 56,
   "metadata": {},
   "outputs": [],
   "source": [
    "from torch.utils.data import Dataset, DataLoader, random_split\n",
    "from torch.utils.data import DataLoader\n",
    "# 划分训练和测试的数据\n",
    "train, test = random_split(ds, (13000, 1000) )\n",
    "# 设定每次读取的数量\n",
    "data_loader = torch.utils.data.DataLoader(dataset=train,batch_size=1000, shuffle=True)\n",
    "data_loader2 = torch.utils.data.DataLoader(dataset=test,batch_size=1000, shuffle=True)"
   ]
  },
  {
   "cell_type": "code",
   "execution_count": 57,
   "metadata": {},
   "outputs": [],
   "source": [
    "import torch.nn as nn\n",
    "\n",
    "class MyNet(nn.Module):\n",
    "    def __init__(self):\n",
    "        super(MyNet, self).__init__()\n",
    "        self.L1 = nn.Conv2d(3,32,5,2,1)\n",
    "        self.B1= nn.BatchNorm2d(32)\n",
    "\n",
    "        self.L2 = nn.Conv2d(32,64,2,2,1)\n",
    "        self.B2= nn.BatchNorm2d(64)\n",
    "    \n",
    "        \n",
    "        self.L = nn.Linear(3136,10)\n",
    "\n",
    "    def forward(self, x):\n",
    "        #降二维，从start_dim开始相乘\n",
    "        # x = torch.flatten(x,start_dim = 1)\n",
    "        g1 = self.L1(x)\n",
    "        g1 = self.B1(g1)\n",
    "        # f1=torch.sigmoid(g1)\n",
    "        f1=torch.relu(g1)\n",
    "\n",
    "        g2 = self.L2(f1)\n",
    "        g2 = self.B2(g2)\n",
    "        f2 = torch.relu(g2)\n",
    "\n",
    "\n",
    "        f2 = torch.flatten(f2,start_dim = 1)\n",
    "\n",
    "        g = self.L(f2)\n",
    "\n",
    "        return g\n",
    "    \n",
    "model = MyNet()\n",
    "# model = torch.load('model5.pth')"
   ]
  },
  {
   "cell_type": "code",
   "execution_count": 58,
   "metadata": {},
   "outputs": [
    {
     "name": "stdout",
     "output_type": "stream",
     "text": [
      "tensor(2.3338, grad_fn=<NllLossBackward0>) tensor(0.0995)\n",
      "tensor(2.3337, grad_fn=<NllLossBackward0>) tensor(0.1047)\n",
      "tensor(2.3064, grad_fn=<NllLossBackward0>) tensor(0.1089)\n",
      "tensor(2.3036, grad_fn=<NllLossBackward0>) tensor(0.1129)\n",
      "tensor(2.3036, grad_fn=<NllLossBackward0>) tensor(0.1229)\n",
      "tensor(2.3082, grad_fn=<NllLossBackward0>) tensor(0.1291)\n",
      "tensor(2.2990, grad_fn=<NllLossBackward0>) tensor(0.1308)\n",
      "tensor(2.2815, grad_fn=<NllLossBackward0>) tensor(0.1356)\n",
      "tensor(2.2685, grad_fn=<NllLossBackward0>) tensor(0.1418)\n",
      "tensor(2.2678, grad_fn=<NllLossBackward0>) tensor(0.1449)\n",
      "tensor(2.2495, grad_fn=<NllLossBackward0>) tensor(0.1505)\n",
      "tensor(2.2749, grad_fn=<NllLossBackward0>) tensor(0.1536)\n",
      "tensor(2.2601, grad_fn=<NllLossBackward0>) tensor(0.1558)\n",
      "tensor(2.2559, grad_fn=<NllLossBackward0>) tensor(0.1597)\n",
      "tensor(2.2510, grad_fn=<NllLossBackward0>) tensor(0.1634)\n",
      "tensor(2.2423, grad_fn=<NllLossBackward0>) tensor(0.1681)\n",
      "tensor(2.2378, grad_fn=<NllLossBackward0>) tensor(0.1690)\n",
      "tensor(2.2271, grad_fn=<NllLossBackward0>) tensor(0.1762)\n",
      "tensor(2.2368, grad_fn=<NllLossBackward0>) tensor(0.1792)\n",
      "tensor(2.2305, grad_fn=<NllLossBackward0>) tensor(0.1798)\n"
     ]
    }
   ],
   "source": [
    "import torchmetrics\n",
    "\n",
    "lossf = nn.CrossEntropyLoss()     #loss函数\n",
    "optimizer = torch.optim.SGD(model.parameters(), lr=0.01)  #SGD函数\n",
    "metricsf = torchmetrics.Accuracy(task='multiclass', num_classes=10)       #torchmetrics函数\n",
    "\n",
    "for i in range(20):\n",
    "    for batchX, batchY in data_loader:\n",
    "        score = model(batchX)\n",
    "        score = torch.squeeze(score)\n",
    "        loss = lossf(score, batchY)\n",
    "\n",
    "        loss.backward() #求导\n",
    "        optimizer.step() #梯度下降\n",
    "        optimizer.zero_grad() #梯度清零\n",
    "\n",
    "        mse = metricsf(score, batchY)    \n",
    "    print(loss, metricsf.compute())\n",
    "    metricsf.reset()"
   ]
  },
  {
   "cell_type": "code",
   "execution_count": 59,
   "metadata": {},
   "outputs": [],
   "source": [
    "torch.save(model, 'model5.pth')"
   ]
  },
  {
   "cell_type": "code",
   "execution_count": 60,
   "metadata": {},
   "outputs": [
    {
     "name": "stdout",
     "output_type": "stream",
     "text": [
      "tensor(0.1050)\n"
     ]
    }
   ],
   "source": [
    "model.eval()\n",
    "\n",
    "for batchX, batchY in data_loader2:\n",
    "    score = model(batchX)\n",
    "    score = torch.squeeze(score)\n",
    "    mse = metricsf(score, batchY)  \n",
    "      \n",
    "print(metricsf.compute())"
   ]
  }
 ],
 "metadata": {
  "kernelspec": {
   "display_name": "base",
   "language": "python",
   "name": "python3"
  },
  "language_info": {
   "codemirror_mode": {
    "name": "ipython",
    "version": 3
   },
   "file_extension": ".py",
   "mimetype": "text/x-python",
   "name": "python",
   "nbconvert_exporter": "python",
   "pygments_lexer": "ipython3",
   "version": "3.11.7"
  }
 },
 "nbformat": 4,
 "nbformat_minor": 2
}
