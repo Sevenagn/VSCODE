{
 "cells": [
  {
   "cell_type": "code",
   "execution_count": 97,
   "metadata": {},
   "outputs": [],
   "source": [
    "import pandas as pd\n",
    "import numpy as np\n",
    "import torch "
   ]
  },
  {
   "cell_type": "code",
   "execution_count": 98,
   "metadata": {},
   "outputs": [],
   "source": [
    "df=pd.read_excel(r'C:\\Users\\seven\\Downloads\\google.xlsx')"
   ]
  },
  {
   "cell_type": "code",
   "execution_count": 99,
   "metadata": {},
   "outputs": [
    {
     "data": {
      "text/plain": [
       "0        211.47\n",
       "1        222.17\n",
       "2        223.22\n",
       "3        228.66\n",
       "4        233.44\n",
       "         ...   \n",
       "3014    1070.00\n",
       "3015    1068.64\n",
       "3016    1066.60\n",
       "3017    1062.25\n",
       "3018    1055.49\n",
       "Name: Open, Length: 3019, dtype: float64"
      ]
     },
     "execution_count": 99,
     "metadata": {},
     "output_type": "execute_result"
    }
   ],
   "source": [
    "df2=df['Open']\n",
    "df2"
   ]
  },
  {
   "cell_type": "code",
   "execution_count": 100,
   "metadata": {},
   "outputs": [
    {
     "data": {
      "text/plain": [
       "(3019,)"
      ]
     },
     "execution_count": 100,
     "metadata": {},
     "output_type": "execute_result"
    }
   ],
   "source": [
    "A1=df2.to_numpy()\n",
    "A1.shape"
   ]
  },
  {
   "cell_type": "code",
   "execution_count": 101,
   "metadata": {},
   "outputs": [
    {
     "data": {
      "text/plain": [
       "3014"
      ]
     },
     "execution_count": 101,
     "metadata": {},
     "output_type": "execute_result"
    }
   ],
   "source": [
    "row_number=3019 - 6 + 1\n",
    "row_number"
   ]
  },
  {
   "cell_type": "code",
   "execution_count": 102,
   "metadata": {},
   "outputs": [
    {
     "data": {
      "text/plain": [
       "(3014, 6)"
      ]
     },
     "execution_count": 102,
     "metadata": {},
     "output_type": "execute_result"
    }
   ],
   "source": [
    "idx=(np.tile(np.arange(0,6),(row_number,1)).T + np.arange(0,row_number)).T\n",
    "A = A1[idx]\n",
    "A.shape"
   ]
  },
  {
   "cell_type": "code",
   "execution_count": 103,
   "metadata": {},
   "outputs": [
    {
     "data": {
      "text/plain": [
       "(3014, 5)"
      ]
     },
     "execution_count": 103,
     "metadata": {},
     "output_type": "execute_result"
    }
   ],
   "source": [
    "X = A[:,0:5]\n",
    "Y = A[:,-1]\n",
    "X.shape"
   ]
  },
  {
   "cell_type": "code",
   "execution_count": 104,
   "metadata": {},
   "outputs": [],
   "source": [
    "X = X.astype(np.float32)\n",
    "Y = Y.astype(np.float32)"
   ]
  },
  {
   "cell_type": "code",
   "execution_count": 105,
   "metadata": {},
   "outputs": [],
   "source": [
    "from torch.utils.data import DataLoader\n",
    "\n",
    "class my_dataset(torch.utils.data.Dataset):\n",
    "    def __init__(self, ):\n",
    "        pass\n",
    "\n",
    "    def __getitem__(self, index):\n",
    "        return X[index],Y[index]\n",
    "\n",
    "    def __len__(self):\n",
    "        return len(X)\n",
    "\n",
    "ds=my_dataset()"
   ]
  },
  {
   "cell_type": "code",
   "execution_count": 106,
   "metadata": {},
   "outputs": [],
   "source": [
    "from torch.utils.data import Dataset, DataLoader, random_split\n",
    "from torch.utils.data import DataLoader\n",
    "# 划分训练和测试的数据\n",
    "train, test = random_split(ds, (2800, 214) )\n",
    "# 设定每次读取的数量\n",
    "data_loader = torch.utils.data.DataLoader(dataset=train,batch_size=200, shuffle=True)\n",
    "data_loader2 = torch.utils.data.DataLoader(dataset=test,batch_size=200, shuffle=True)"
   ]
  },
  {
   "cell_type": "code",
   "execution_count": 107,
   "metadata": {},
   "outputs": [],
   "source": [
    "import torch.nn as nn\n",
    "\n",
    "class MyNet(nn.Module):\n",
    "    def __init__(self):\n",
    "        super(MyNet, self).__init__()\n",
    "        self.L1 = nn.Linear(5,100)\n",
    "        # self.B1= nn.BatchNorm2d(100)\n",
    "        self.L2 = nn.Linear(100,200)\n",
    "        # self.B2= nn.BatchNorm2d(200)\n",
    "        self.L = nn.Linear(200,1)\n",
    "\n",
    "    def forward(self, x):\n",
    "        #降二维，从start_dim开始相乘\n",
    "        # x = torch.flatten(x,start_dim = 1)\n",
    "        g1 = self.L1(x)\n",
    "        # g1 = self.B1(g1)\n",
    "        # f1=torch.sigmoid(g1)\n",
    "        f1=torch.relu(g1)\n",
    "\n",
    "        g2 = self.L2(f1)\n",
    "        # g2 = self.B2(g2)\n",
    "        f2 = torch.relu(g2)\n",
    "\n",
    "        g = self.L(f2)\n",
    "\n",
    "        return g\n",
    "    \n",
    "model = MyNet()"
   ]
  },
  {
   "cell_type": "code",
   "execution_count": 108,
   "metadata": {},
   "outputs": [
    {
     "name": "stdout",
     "output_type": "stream",
     "text": [
      "tensor(nan, grad_fn=<MseLossBackward0>) tensor(nan)\n",
      "tensor(nan, grad_fn=<MseLossBackward0>) tensor(nan)\n",
      "tensor(nan, grad_fn=<MseLossBackward0>) tensor(nan)\n",
      "tensor(nan, grad_fn=<MseLossBackward0>) tensor(nan)\n",
      "tensor(nan, grad_fn=<MseLossBackward0>) tensor(nan)\n",
      "tensor(nan, grad_fn=<MseLossBackward0>) tensor(nan)\n",
      "tensor(nan, grad_fn=<MseLossBackward0>) tensor(nan)\n",
      "tensor(nan, grad_fn=<MseLossBackward0>) tensor(nan)\n",
      "tensor(nan, grad_fn=<MseLossBackward0>) tensor(nan)\n",
      "tensor(nan, grad_fn=<MseLossBackward0>) tensor(nan)\n",
      "tensor(nan, grad_fn=<MseLossBackward0>) tensor(nan)\n",
      "tensor(nan, grad_fn=<MseLossBackward0>) tensor(nan)\n",
      "tensor(nan, grad_fn=<MseLossBackward0>) tensor(nan)\n",
      "tensor(nan, grad_fn=<MseLossBackward0>) tensor(nan)\n",
      "tensor(nan, grad_fn=<MseLossBackward0>) tensor(nan)\n",
      "tensor(nan, grad_fn=<MseLossBackward0>) tensor(nan)\n",
      "tensor(nan, grad_fn=<MseLossBackward0>) tensor(nan)\n",
      "tensor(nan, grad_fn=<MseLossBackward0>) tensor(nan)\n",
      "tensor(nan, grad_fn=<MseLossBackward0>) tensor(nan)\n",
      "tensor(nan, grad_fn=<MseLossBackward0>) tensor(nan)\n",
      "tensor(nan, grad_fn=<MseLossBackward0>) tensor(nan)\n",
      "tensor(nan, grad_fn=<MseLossBackward0>) tensor(nan)\n",
      "tensor(nan, grad_fn=<MseLossBackward0>) tensor(nan)\n",
      "tensor(nan, grad_fn=<MseLossBackward0>) tensor(nan)\n",
      "tensor(nan, grad_fn=<MseLossBackward0>) tensor(nan)\n",
      "tensor(nan, grad_fn=<MseLossBackward0>) tensor(nan)\n",
      "tensor(nan, grad_fn=<MseLossBackward0>) tensor(nan)\n",
      "tensor(nan, grad_fn=<MseLossBackward0>) tensor(nan)\n",
      "tensor(nan, grad_fn=<MseLossBackward0>) tensor(nan)\n",
      "tensor(nan, grad_fn=<MseLossBackward0>) tensor(nan)\n",
      "tensor(nan, grad_fn=<MseLossBackward0>) tensor(nan)\n",
      "tensor(nan, grad_fn=<MseLossBackward0>) tensor(nan)\n",
      "tensor(nan, grad_fn=<MseLossBackward0>) tensor(nan)\n",
      "tensor(nan, grad_fn=<MseLossBackward0>) tensor(nan)\n",
      "tensor(nan, grad_fn=<MseLossBackward0>) tensor(nan)\n",
      "tensor(nan, grad_fn=<MseLossBackward0>) tensor(nan)\n",
      "tensor(nan, grad_fn=<MseLossBackward0>) tensor(nan)\n",
      "tensor(nan, grad_fn=<MseLossBackward0>) tensor(nan)\n",
      "tensor(nan, grad_fn=<MseLossBackward0>) tensor(nan)\n",
      "tensor(nan, grad_fn=<MseLossBackward0>) tensor(nan)\n",
      "tensor(nan, grad_fn=<MseLossBackward0>) tensor(nan)\n",
      "tensor(nan, grad_fn=<MseLossBackward0>) tensor(nan)\n",
      "tensor(nan, grad_fn=<MseLossBackward0>) tensor(nan)\n",
      "tensor(nan, grad_fn=<MseLossBackward0>) tensor(nan)\n",
      "tensor(nan, grad_fn=<MseLossBackward0>) tensor(nan)\n",
      "tensor(nan, grad_fn=<MseLossBackward0>) tensor(nan)\n",
      "tensor(nan, grad_fn=<MseLossBackward0>) tensor(nan)\n",
      "tensor(nan, grad_fn=<MseLossBackward0>) tensor(nan)\n",
      "tensor(nan, grad_fn=<MseLossBackward0>) tensor(nan)\n",
      "tensor(nan, grad_fn=<MseLossBackward0>) tensor(nan)\n",
      "tensor(nan, grad_fn=<MseLossBackward0>) tensor(nan)\n",
      "tensor(nan, grad_fn=<MseLossBackward0>) tensor(nan)\n",
      "tensor(nan, grad_fn=<MseLossBackward0>) tensor(nan)\n",
      "tensor(nan, grad_fn=<MseLossBackward0>) tensor(nan)\n",
      "tensor(nan, grad_fn=<MseLossBackward0>) tensor(nan)\n",
      "tensor(nan, grad_fn=<MseLossBackward0>) tensor(nan)\n",
      "tensor(nan, grad_fn=<MseLossBackward0>) tensor(nan)\n",
      "tensor(nan, grad_fn=<MseLossBackward0>) tensor(nan)\n",
      "tensor(nan, grad_fn=<MseLossBackward0>) tensor(nan)\n",
      "tensor(nan, grad_fn=<MseLossBackward0>) tensor(nan)\n",
      "tensor(nan, grad_fn=<MseLossBackward0>) tensor(nan)\n",
      "tensor(nan, grad_fn=<MseLossBackward0>) tensor(nan)\n",
      "tensor(nan, grad_fn=<MseLossBackward0>) tensor(nan)\n",
      "tensor(nan, grad_fn=<MseLossBackward0>) tensor(nan)\n",
      "tensor(nan, grad_fn=<MseLossBackward0>) tensor(nan)\n",
      "tensor(nan, grad_fn=<MseLossBackward0>) tensor(nan)\n",
      "tensor(nan, grad_fn=<MseLossBackward0>) tensor(nan)\n",
      "tensor(nan, grad_fn=<MseLossBackward0>) tensor(nan)\n",
      "tensor(nan, grad_fn=<MseLossBackward0>) tensor(nan)\n",
      "tensor(nan, grad_fn=<MseLossBackward0>) tensor(nan)\n",
      "tensor(nan, grad_fn=<MseLossBackward0>) tensor(nan)\n",
      "tensor(nan, grad_fn=<MseLossBackward0>) tensor(nan)\n",
      "tensor(nan, grad_fn=<MseLossBackward0>) tensor(nan)\n",
      "tensor(nan, grad_fn=<MseLossBackward0>) tensor(nan)\n",
      "tensor(nan, grad_fn=<MseLossBackward0>) tensor(nan)\n",
      "tensor(nan, grad_fn=<MseLossBackward0>) tensor(nan)\n",
      "tensor(nan, grad_fn=<MseLossBackward0>) tensor(nan)\n",
      "tensor(nan, grad_fn=<MseLossBackward0>) tensor(nan)\n",
      "tensor(nan, grad_fn=<MseLossBackward0>) tensor(nan)\n",
      "tensor(nan, grad_fn=<MseLossBackward0>) tensor(nan)\n",
      "tensor(nan, grad_fn=<MseLossBackward0>) tensor(nan)\n",
      "tensor(nan, grad_fn=<MseLossBackward0>) tensor(nan)\n",
      "tensor(nan, grad_fn=<MseLossBackward0>) tensor(nan)\n",
      "tensor(nan, grad_fn=<MseLossBackward0>) tensor(nan)\n",
      "tensor(nan, grad_fn=<MseLossBackward0>) tensor(nan)\n",
      "tensor(nan, grad_fn=<MseLossBackward0>) tensor(nan)\n",
      "tensor(nan, grad_fn=<MseLossBackward0>) tensor(nan)\n",
      "tensor(nan, grad_fn=<MseLossBackward0>) tensor(nan)\n",
      "tensor(nan, grad_fn=<MseLossBackward0>) tensor(nan)\n",
      "tensor(nan, grad_fn=<MseLossBackward0>) tensor(nan)\n",
      "tensor(nan, grad_fn=<MseLossBackward0>) tensor(nan)\n",
      "tensor(nan, grad_fn=<MseLossBackward0>) tensor(nan)\n",
      "tensor(nan, grad_fn=<MseLossBackward0>) tensor(nan)\n",
      "tensor(nan, grad_fn=<MseLossBackward0>) tensor(nan)\n",
      "tensor(nan, grad_fn=<MseLossBackward0>) tensor(nan)\n",
      "tensor(nan, grad_fn=<MseLossBackward0>) tensor(nan)\n",
      "tensor(nan, grad_fn=<MseLossBackward0>) tensor(nan)\n",
      "tensor(nan, grad_fn=<MseLossBackward0>) tensor(nan)\n",
      "tensor(nan, grad_fn=<MseLossBackward0>) tensor(nan)\n",
      "tensor(nan, grad_fn=<MseLossBackward0>) tensor(nan)\n"
     ]
    }
   ],
   "source": [
    "import torchmetrics\n",
    "\n",
    "lossf = nn.MSELoss()     #loss函数\n",
    "optimizer = torch.optim.SGD(model.parameters(), lr=0.01)  #SGD函数\n",
    "metricsf = torchmetrics.MeanSquaredError()       #torchmetrics函数\n",
    "\n",
    "for i in range(100):\n",
    "    for batchX, batchY in data_loader:\n",
    "        score = model(batchX)\n",
    "        score = torch.squeeze(score)\n",
    "        loss = lossf(score, batchY)\n",
    "\n",
    "        loss.backward() #求导\n",
    "        optimizer.step() #梯度下降\n",
    "        optimizer.zero_grad() #梯度清零\n",
    "\n",
    "        mse = metricsf(score, batchY)    \n",
    "    print(loss, metricsf.compute() ** 0.5)\n",
    "    metricsf.reset()"
   ]
  },
  {
   "cell_type": "code",
   "execution_count": 109,
   "metadata": {},
   "outputs": [],
   "source": [
    "torch.save(model, 'model6.pth')"
   ]
  },
  {
   "cell_type": "code",
   "execution_count": 110,
   "metadata": {},
   "outputs": [
    {
     "name": "stdout",
     "output_type": "stream",
     "text": [
      "tensor(nan)\n"
     ]
    }
   ],
   "source": [
    "for batchX, batchY in data_loader2:\n",
    "    score = model(batchX)\n",
    "    score = torch.squeeze(score)\n",
    "    mse = metricsf(score, batchY) \n",
    "      \n",
    "print(metricsf.compute() ** 0.5 )"
   ]
  }
 ],
 "metadata": {
  "kernelspec": {
   "display_name": "base",
   "language": "python",
   "name": "python3"
  },
  "language_info": {
   "codemirror_mode": {
    "name": "ipython",
    "version": 3
   },
   "file_extension": ".py",
   "mimetype": "text/x-python",
   "name": "python",
   "nbconvert_exporter": "python",
   "pygments_lexer": "ipython3",
   "version": "3.11.7"
  }
 },
 "nbformat": 4,
 "nbformat_minor": 2
}
