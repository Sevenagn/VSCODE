{
 "cells": [
  {
   "cell_type": "code",
   "execution_count": 37,
   "metadata": {},
   "outputs": [],
   "source": [
    "import numpy as np\n",
    "import matplotlib.pyplot as plt\n",
    "import torch"
   ]
  },
  {
   "cell_type": "code",
   "execution_count": 38,
   "metadata": {},
   "outputs": [],
   "source": [
    "def unpickle(file):\n",
    "    import pickle\n",
    "    with open(file, 'rb') as fo:\n",
    "        dict = pickle.load(fo, encoding='bytes')\n",
    "    return dict"
   ]
  },
  {
   "cell_type": "code",
   "execution_count": 39,
   "metadata": {},
   "outputs": [
    {
     "data": {
      "text/plain": [
       "(10000, 3072)"
      ]
     },
     "execution_count": 39,
     "metadata": {},
     "output_type": "execute_result"
    }
   ],
   "source": [
    "data = unpickle(r'C:\\Users\\seven\\Downloads\\cifar-10-batches-py\\data_batch_1')\n",
    "X = data[b'data']\n",
    "Y = data[b'labels']\n",
    "X.shape"
   ]
  },
  {
   "cell_type": "code",
   "execution_count": 40,
   "metadata": {},
   "outputs": [
    {
     "data": {
      "text/plain": [
       "(10000, 3, 32, 32)"
      ]
     },
     "execution_count": 40,
     "metadata": {},
     "output_type": "execute_result"
    }
   ],
   "source": [
    "# X=np.reshape(X,(-1,32,32,3))\n",
    "# X = X.astype(np.float32)\n",
    "# X = X.transpose((0,3,1,2))\n",
    "X=np.reshape(X,(-1,3,32,32))\n",
    "X = X.astype(np.float32)\n",
    "# X = X.transpose((0,3,1,2))\n",
    "X.shape"
   ]
  },
  {
   "cell_type": "code",
   "execution_count": 41,
   "metadata": {},
   "outputs": [],
   "source": [
    "from torch.utils.data import DataLoader\n",
    "\n",
    "class my_dataset(torch.utils.data.Dataset):\n",
    "    def __init__(self, ):\n",
    "        pass\n",
    "\n",
    "    def __getitem__(self, index):\n",
    "        return X[index],Y[index]\n",
    "\n",
    "    def __len__(self):\n",
    "        return len(X)\n",
    "\n",
    "ds=my_dataset()"
   ]
  },
  {
   "cell_type": "code",
   "execution_count": 42,
   "metadata": {},
   "outputs": [],
   "source": [
    "\n",
    "\n",
    "from torch.utils.data import Dataset, DataLoader, random_split\n",
    "from torch.utils.data import DataLoader\n",
    "# 划分训练和测试的数据\n",
    "train, test = random_split(ds, (9000, 1000) )\n",
    "# 设定每次读取的数量\n",
    "data_loader = torch.utils.data.DataLoader(dataset=train,batch_size=200, shuffle=True)\n",
    "data_loader2 = torch.utils.data.DataLoader(dataset=test,batch_size=1000, shuffle=True)"
   ]
  },
  {
   "cell_type": "code",
   "execution_count": 43,
   "metadata": {},
   "outputs": [],
   "source": [
    "import torch.nn as nn\n",
    "\n",
    "class MyNet(nn.Module):\n",
    "    def __init__(self):\n",
    "        super(MyNet, self).__init__()\n",
    "        self.L1 = nn.Conv2d(3,32,7,2,1)\n",
    "        self.B1= nn.BatchNorm2d(32)\n",
    "\n",
    "        self.L2 = nn.Conv2d(32,64,5,2,2)\n",
    "        self.B2= nn.BatchNorm2d(64)\n",
    "        \n",
    "        self.L3 = nn.Conv2d(64,128,3,1,1)\n",
    "        self.B3= nn.BatchNorm2d(128)\n",
    "        \n",
    "        self.L = nn.Linear(6272,10)\n",
    "\n",
    "    def forward(self, x):\n",
    "        #降二维，从start_dim开始相乘\n",
    "        # x = torch.flatten(x,start_dim = 1)\n",
    "        g1 = self.L1(x)\n",
    "        g1 = self.B1(g1)\n",
    "        # f1=torch.sigmoid(g1)\n",
    "        f1=torch.relu(g1)\n",
    "\n",
    "        g2 = self.L2(f1)\n",
    "        g2 = self.B2(g2)\n",
    "        f2 = torch.relu(g2)\n",
    "\n",
    "        g3 = self.L3(f2)\n",
    "        g3 = self.B3(g3)\n",
    "        f3 = torch.relu(g3)\n",
    "\n",
    "        f3 = torch.flatten(f3,start_dim = 1)\n",
    "\n",
    "        g = self.L(f3)\n",
    "\n",
    "        return g\n",
    "    \n",
    "model = MyNet()\n",
    "model = torch.load('model4.pth')"
   ]
  },
  {
   "cell_type": "code",
   "execution_count": 44,
   "metadata": {},
   "outputs": [
    {
     "name": "stdout",
     "output_type": "stream",
     "text": [
      "tensor(1.7214, grad_fn=<NllLossBackward0>) tensor(0.3111)\n",
      "tensor(1.6708, grad_fn=<NllLossBackward0>) tensor(0.4418)\n",
      "tensor(1.4259, grad_fn=<NllLossBackward0>) tensor(0.5028)\n",
      "tensor(1.4214, grad_fn=<NllLossBackward0>) tensor(0.5317)\n",
      "tensor(1.2159, grad_fn=<NllLossBackward0>) tensor(0.5632)\n",
      "tensor(1.1031, grad_fn=<NllLossBackward0>) tensor(0.5994)\n",
      "tensor(1.1184, grad_fn=<NllLossBackward0>) tensor(0.6202)\n",
      "tensor(1.2541, grad_fn=<NllLossBackward0>) tensor(0.6413)\n",
      "tensor(0.9875, grad_fn=<NllLossBackward0>) tensor(0.6661)\n",
      "tensor(0.8837, grad_fn=<NllLossBackward0>) tensor(0.6839)\n",
      "tensor(0.9090, grad_fn=<NllLossBackward0>) tensor(0.7151)\n",
      "tensor(0.8940, grad_fn=<NllLossBackward0>) tensor(0.7236)\n",
      "tensor(0.8084, grad_fn=<NllLossBackward0>) tensor(0.7452)\n",
      "tensor(0.8232, grad_fn=<NllLossBackward0>) tensor(0.7629)\n",
      "tensor(0.7414, grad_fn=<NllLossBackward0>) tensor(0.7819)\n",
      "tensor(0.6573, grad_fn=<NllLossBackward0>) tensor(0.7977)\n",
      "tensor(0.6333, grad_fn=<NllLossBackward0>) tensor(0.8122)\n",
      "tensor(0.6172, grad_fn=<NllLossBackward0>) tensor(0.8306)\n",
      "tensor(0.5893, grad_fn=<NllLossBackward0>) tensor(0.8403)\n",
      "tensor(0.5833, grad_fn=<NllLossBackward0>) tensor(0.8566)\n",
      "tensor(0.5182, grad_fn=<NllLossBackward0>) tensor(0.8656)\n",
      "tensor(0.6082, grad_fn=<NllLossBackward0>) tensor(0.8763)\n",
      "tensor(0.5033, grad_fn=<NllLossBackward0>) tensor(0.8917)\n",
      "tensor(0.4120, grad_fn=<NllLossBackward0>) tensor(0.9020)\n",
      "tensor(0.4753, grad_fn=<NllLossBackward0>) tensor(0.9108)\n",
      "tensor(0.4235, grad_fn=<NllLossBackward0>) tensor(0.9196)\n",
      "tensor(0.4218, grad_fn=<NllLossBackward0>) tensor(0.9287)\n",
      "tensor(0.4101, grad_fn=<NllLossBackward0>) tensor(0.9430)\n",
      "tensor(0.3129, grad_fn=<NllLossBackward0>) tensor(0.9434)\n",
      "tensor(0.3838, grad_fn=<NllLossBackward0>) tensor(0.9511)\n",
      "tensor(0.2669, grad_fn=<NllLossBackward0>) tensor(0.9541)\n",
      "tensor(0.3266, grad_fn=<NllLossBackward0>) tensor(0.9637)\n",
      "tensor(0.2252, grad_fn=<NllLossBackward0>) tensor(0.9712)\n",
      "tensor(0.2536, grad_fn=<NllLossBackward0>) tensor(0.9722)\n",
      "tensor(0.2482, grad_fn=<NllLossBackward0>) tensor(0.9790)\n",
      "tensor(0.2435, grad_fn=<NllLossBackward0>) tensor(0.9789)\n",
      "tensor(0.1814, grad_fn=<NllLossBackward0>) tensor(0.9832)\n",
      "tensor(0.1923, grad_fn=<NllLossBackward0>) tensor(0.9866)\n",
      "tensor(0.2296, grad_fn=<NllLossBackward0>) tensor(0.9869)\n",
      "tensor(0.1857, grad_fn=<NllLossBackward0>) tensor(0.9874)\n",
      "tensor(0.1738, grad_fn=<NllLossBackward0>) tensor(0.9909)\n",
      "tensor(0.1618, grad_fn=<NllLossBackward0>) tensor(0.9920)\n",
      "tensor(0.1704, grad_fn=<NllLossBackward0>) tensor(0.9923)\n",
      "tensor(0.1335, grad_fn=<NllLossBackward0>) tensor(0.9952)\n",
      "tensor(0.1268, grad_fn=<NllLossBackward0>) tensor(0.9951)\n",
      "tensor(0.1439, grad_fn=<NllLossBackward0>) tensor(0.9961)\n",
      "tensor(0.0983, grad_fn=<NllLossBackward0>) tensor(0.9964)\n",
      "tensor(0.1042, grad_fn=<NllLossBackward0>) tensor(0.9982)\n",
      "tensor(0.1041, grad_fn=<NllLossBackward0>) tensor(0.9970)\n",
      "tensor(0.1003, grad_fn=<NllLossBackward0>) tensor(0.9972)\n"
     ]
    }
   ],
   "source": [
    "import torchmetrics\n",
    "\n",
    "lossf = nn.CrossEntropyLoss()     #loss函数\n",
    "optimizer = torch.optim.SGD(model.parameters(), lr=0.01)  #SGD函数\n",
    "metricsf = torchmetrics.Accuracy(task='multiclass', num_classes=10)       #torchmetrics函数\n",
    "\n",
    "for i in range(50):\n",
    "    for batchX, batchY in data_loader:\n",
    "        score = model(batchX)\n",
    "        score = torch.squeeze(score)\n",
    "        loss = lossf(score, batchY)\n",
    "\n",
    "        loss.backward() #求导\n",
    "        optimizer.step() #梯度下降\n",
    "        optimizer.zero_grad() #梯度清零\n",
    "\n",
    "        mse = metricsf(score, batchY)    \n",
    "    print(loss, metricsf.compute())\n",
    "    metricsf.reset()"
   ]
  },
  {
   "cell_type": "code",
   "execution_count": 45,
   "metadata": {},
   "outputs": [],
   "source": [
    "torch.save(model, 'model4.pth')"
   ]
  },
  {
   "cell_type": "code",
   "execution_count": 47,
   "metadata": {},
   "outputs": [
    {
     "name": "stdout",
     "output_type": "stream",
     "text": [
      "tensor(0.5290)\n"
     ]
    }
   ],
   "source": [
    "model.eval()\n",
    "\n",
    "for batchX, batchY in data_loader2:\n",
    "    score = model(batchX)\n",
    "    score = torch.squeeze(score)\n",
    "    mse = metricsf(score, batchY)  \n",
    "      \n",
    "print(metricsf.compute())"
   ]
  }
 ],
 "metadata": {
  "kernelspec": {
   "display_name": "base",
   "language": "python",
   "name": "python3"
  },
  "language_info": {
   "codemirror_mode": {
    "name": "ipython",
    "version": 3
   },
   "file_extension": ".py",
   "mimetype": "text/x-python",
   "name": "python",
   "nbconvert_exporter": "python",
   "pygments_lexer": "ipython3",
   "version": "3.11.7"
  }
 },
 "nbformat": 4,
 "nbformat_minor": 2
}
