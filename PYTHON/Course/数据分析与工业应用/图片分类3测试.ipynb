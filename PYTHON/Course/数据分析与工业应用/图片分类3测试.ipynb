{
 "cells": [
  {
   "cell_type": "code",
   "execution_count": 93,
   "metadata": {},
   "outputs": [],
   "source": [
    "import numpy as np\n",
    "import matplotlib.pyplot as plt\n",
    "import torch"
   ]
  },
  {
   "cell_type": "code",
   "execution_count": 94,
   "metadata": {},
   "outputs": [],
   "source": [
    "def unpickle(file):\n",
    "    import pickle\n",
    "    with open(file, 'rb') as fo:\n",
    "        dict = pickle.load(fo, encoding='bytes')\n",
    "    return dict"
   ]
  },
  {
   "cell_type": "code",
   "execution_count": 95,
   "metadata": {},
   "outputs": [
    {
     "data": {
      "text/plain": [
       "(10000, 3072)"
      ]
     },
     "execution_count": 95,
     "metadata": {},
     "output_type": "execute_result"
    }
   ],
   "source": [
    "data = unpickle(r'C:\\Users\\seven\\Downloads\\cifar-10-batches-py\\data_batch_1')\n",
    "X = data[b'data']\n",
    "Y = data[b'labels']\n",
    "X.shape"
   ]
  },
  {
   "cell_type": "code",
   "execution_count": 96,
   "metadata": {},
   "outputs": [],
   "source": [
    "\n",
    "# tmp=X[0:5]\n",
    "# tmp=np.reshape(tmp,(-1,3,32,32))\n",
    "# tmp = tmp.transpose((0,2,3,1))\n",
    "# tmp.shape\n",
    "\n",
    "# im1=tmp[4]\n",
    "# plt.imsave('img5.jpg',im1)\n"
   ]
  },
  {
   "cell_type": "code",
   "execution_count": 97,
   "metadata": {},
   "outputs": [],
   "source": [
    "X=np.reshape(X,(-1,3,32,32))\n",
    "X = X.astype(np.float32)\n",
    "# X = X.transpose((0,3,1,2))"
   ]
  },
  {
   "cell_type": "code",
   "execution_count": 98,
   "metadata": {},
   "outputs": [],
   "source": [
    "from torch.utils.data import DataLoader\n",
    "\n",
    "class my_dataset(torch.utils.data.Dataset):\n",
    "    def __init__(self, ):\n",
    "        pass\n",
    "\n",
    "    def __getitem__(self, index):\n",
    "        return X[index],Y[index]\n",
    "\n",
    "    def __len__(self):\n",
    "        return len(X)\n",
    "\n",
    "ds=my_dataset()"
   ]
  },
  {
   "cell_type": "code",
   "execution_count": 99,
   "metadata": {},
   "outputs": [],
   "source": [
    "\n",
    "\n",
    "from torch.utils.data import Dataset, DataLoader, random_split\n",
    "from torch.utils.data import DataLoader\n",
    "\n",
    "data_loader = torch.utils.data.DataLoader(dataset=ds,batch_size=10000, shuffle=True)"
   ]
  },
  {
   "cell_type": "code",
   "execution_count": 100,
   "metadata": {},
   "outputs": [
    {
     "data": {
      "text/plain": [
       "MyNet(\n",
       "  (L1): Conv2d(3, 32, kernel_size=(7, 7), stride=(2, 2), padding=(1, 1))\n",
       "  (B1): BatchNorm2d(32, eps=1e-05, momentum=0.1, affine=True, track_running_stats=True)\n",
       "  (L2): Conv2d(32, 64, kernel_size=(5, 5), stride=(2, 2), padding=(2, 2))\n",
       "  (B2): BatchNorm2d(64, eps=1e-05, momentum=0.1, affine=True, track_running_stats=True)\n",
       "  (L3): Conv2d(64, 128, kernel_size=(3, 3), stride=(1, 1), padding=(1, 1))\n",
       "  (B3): BatchNorm2d(128, eps=1e-05, momentum=0.1, affine=True, track_running_stats=True)\n",
       "  (L): Linear(in_features=6272, out_features=10, bias=True)\n",
       ")"
      ]
     },
     "execution_count": 100,
     "metadata": {},
     "output_type": "execute_result"
    }
   ],
   "source": [
    "import torch.nn as nn\n",
    "\n",
    "class MyNet(nn.Module):\n",
    "    def __init__(self):\n",
    "        super(MyNet, self).__init__()\n",
    "        self.L1 = nn.Conv2d(3,32,7,2,1)\n",
    "        self.B1= nn.BatchNorm2d(32)\n",
    "\n",
    "        self.L2 = nn.Conv2d(32,64,5,2,2)\n",
    "        self.B2= nn.BatchNorm2d(64)\n",
    "        \n",
    "        self.L3 = nn.Conv2d(64,128,3,1,1)\n",
    "        self.B3= nn.BatchNorm2d(128)\n",
    "        \n",
    "        self.L = nn.Linear(6272,10)\n",
    "\n",
    "    def forward(self, x):\n",
    "        #降二维，从start_dim开始相乘\n",
    "        # x = torch.flatten(x,start_dim = 1)\n",
    "        g1 = self.L1(x)\n",
    "        g1 = self.B1(g1)\n",
    "        # f1=torch.sigmoid(g1)\n",
    "        f1=torch.relu(g1)\n",
    "\n",
    "        g2 = self.L2(f1)\n",
    "        g2 = self.B2(g2)\n",
    "        f2 = torch.relu(g2)\n",
    "\n",
    "        g3 = self.L3(f2)\n",
    "        g3 = self.B3(g3)\n",
    "        f3 = torch.relu(g3)\n",
    "\n",
    "        f3 = torch.flatten(f3,start_dim = 1)\n",
    "\n",
    "        g = self.L(f3)\n",
    "\n",
    "        return g\n",
    "    \n",
    "model = MyNet()\n",
    "model = torch.load('model4.pth')\n",
    "model.eval()"
   ]
  },
  {
   "cell_type": "code",
   "execution_count": 101,
   "metadata": {},
   "outputs": [],
   "source": [
    "import torchmetrics\n",
    "\n",
    "metricsf = torchmetrics.Accuracy(task='multiclass', num_classes=10)       #torchmetrics函数\n",
    "\n"
   ]
  },
  {
   "cell_type": "code",
   "execution_count": 102,
   "metadata": {},
   "outputs": [
    {
     "name": "stdout",
     "output_type": "stream",
     "text": [
      "tensor(0.9504)\n"
     ]
    }
   ],
   "source": [
    "for batchX, batchY in data_loader:\n",
    "    score = model(batchX)\n",
    "    score = torch.squeeze(score)\n",
    "    mse = metricsf(score, batchY)  \n",
    "      \n",
    "print(metricsf.compute())"
   ]
  },
  {
   "cell_type": "code",
   "execution_count": 116,
   "metadata": {},
   "outputs": [],
   "source": [
    "im1 = plt.imread('img1.jpg')\n",
    "im = im1[np.newaxis,:,:,:]\n",
    "im = im.transpose((0,3,1,2))\n",
    "im = im.astype(np.float32)\n",
    "im = torch.from_numpy(im)\n",
    "g=model(im)\n",
    "r=g.argmax().numpy()\n",
    "r\n",
    "\n",
    "plt.imshow(im1)\n",
    "plt.text(0,1,str(r),color='green',size=14)\n",
    "plt.savefig('m1.jpg')\n",
    "plt.close()"
   ]
  },
  {
   "cell_type": "code",
   "execution_count": 121,
   "metadata": {},
   "outputs": [
    {
     "data": {
      "text/plain": [
       "['a.jpeg',\n",
       " 'b.jpeg',\n",
       " 'BASEDATA.xlsx',\n",
       " 'c.jpg',\n",
       " 'd.jpeg',\n",
       " 'e.jpeg',\n",
       " 'house.csv',\n",
       " 'house.xlsx',\n",
       " 'img1.jpg',\n",
       " 'img2.jpg',\n",
       " 'img3.jpg',\n",
       " 'img4.jpg',\n",
       " 'img5.jpg',\n",
       " 'm1.jpg',\n",
       " 'model.pth',\n",
       " 'model2.pth',\n",
       " 'model3.pth',\n",
       " 'model4.pth',\n",
       " 'numpy笔记.docx',\n",
       " 'Pandas笔记.pdf',\n",
       " 'temp.py',\n",
       " '图片分类 copy.ipynb',\n",
       " '图片分类.ipynb',\n",
       " '图片分类2.ipynb',\n",
       " '图片分类2gpu copy.ipynb',\n",
       " '图片分类2gpu.ipynb',\n",
       " '图片分类3.ipynb',\n",
       " '图片分类3测试.ipynb',\n",
       " '图片分类测试.ipynb',\n",
       " '图片分类测试2.ipynb',\n",
       " '基础.ipynb']"
      ]
     },
     "execution_count": 121,
     "metadata": {},
     "output_type": "execute_result"
    }
   ],
   "source": [
    "import os\n",
    "ims=os.listdir(r'C:\\Users\\seven\\OneDrive\\文档\\Git\\GitHub\\VSCODE\\PYTHON\\Course\\数据分析与工业应用')\n",
    "ims\n"
   ]
  },
  {
   "cell_type": "code",
   "execution_count": null,
   "metadata": {},
   "outputs": [],
   "source": []
  }
 ],
 "metadata": {
  "kernelspec": {
   "display_name": "base",
   "language": "python",
   "name": "python3"
  },
  "language_info": {
   "codemirror_mode": {
    "name": "ipython",
    "version": 3
   },
   "file_extension": ".py",
   "mimetype": "text/x-python",
   "name": "python",
   "nbconvert_exporter": "python",
   "pygments_lexer": "ipython3",
   "version": "3.11.7"
  }
 },
 "nbformat": 4,
 "nbformat_minor": 2
}
