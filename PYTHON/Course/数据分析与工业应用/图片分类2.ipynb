{
 "cells": [
  {
   "cell_type": "code",
   "execution_count": null,
   "metadata": {},
   "outputs": [],
   "source": [
    "import numpy as np\n",
    "from torchvision.datasets import ImageFolder\n",
    "from torchvision import transforms"
   ]
  },
  {
   "cell_type": "code",
   "execution_count": null,
   "metadata": {},
   "outputs": [],
   "source": [
    "# 导入训练图片的路径\n",
    "trans_compose = transforms.Compose([\n",
    "        #转换为torch数据类型\n",
    "        transforms.ToTensor(),\n",
    "        # transforms.Normalize([0.5, 0.5, 0.5], [0.5, 0.5, 0.5]),\n",
    "        # 调整图片大小\n",
    "        transforms.Resize((100,100))\n",
    "\n",
    "        ])\n",
    "\n",
    "ds = ImageFolder(r'C:\\Users\\seven\\Downloads\\imgs\\raw-img',trans_compose)\n",
    "ds "
   ]
  },
  {
   "cell_type": "code",
   "execution_count": null,
   "metadata": {},
   "outputs": [],
   "source": [
    "ds.class_to_idx"
   ]
  },
  {
   "cell_type": "code",
   "execution_count": null,
   "metadata": {},
   "outputs": [],
   "source": [
    "ds.imgs"
   ]
  },
  {
   "cell_type": "code",
   "execution_count": null,
   "metadata": {},
   "outputs": [],
   "source": [
    "import torch\n",
    "\n",
    "from torch.utils.data import Dataset, DataLoader, random_split\n",
    "from torch.utils.data import DataLoader\n",
    "# 划分训练和测试的数据\n",
    "train, test = random_split(ds, (25000, 1179) )\n",
    "# 设定每次读取的数量\n",
    "data_loader = torch.utils.data.DataLoader(dataset=train,batch_size=200, shuffle=True)\n",
    "data_loader2 = torch.utils.data.DataLoader(dataset=test,batch_size=200, shuffle=True)\n"
   ]
  },
  {
   "cell_type": "code",
   "execution_count": null,
   "metadata": {},
   "outputs": [],
   "source": [
    "import torch.nn as nn\n",
    "\n",
    "class MyNet(nn.Module):\n",
    "    def __init__(self):\n",
    "        super(MyNet, self).__init__()\n",
    "        self.L1 = nn.Conv2d(3,30,3,2,1)\n",
    "        self.B1= nn.BatchNorm2d(30)\n",
    "        self.L2 = nn.Conv2d(30,60,5,2,1)\n",
    "        self.B2= nn.BatchNorm2d(60)\n",
    "        self.L = nn.Linear(34560,10)\n",
    "\n",
    "    def forward(self, x):\n",
    "        #降二维，从start_dim开始相乘\n",
    "        # x = torch.flatten(x,start_dim = 1)\n",
    "        g1 = self.L1(x)\n",
    "        g1 = self.B1(g1)\n",
    "        # f1=torch.sigmoid(g1)\n",
    "        f1=torch.relu(g1)\n",
    "\n",
    "        g2 = self.L2(f1)\n",
    "        g2 = self.B2(g2)\n",
    "        f2 = torch.relu(g2)\n",
    "\n",
    "        f2 = torch.flatten(f2,start_dim = 1)\n",
    "\n",
    "        g = self.L(f2)\n",
    "\n",
    "        return g\n",
    "    \n",
    "model = MyNet()"
   ]
  },
  {
   "cell_type": "code",
   "execution_count": null,
   "metadata": {},
   "outputs": [],
   "source": [
    "import torchmetrics\n",
    "\n",
    "lossf = nn.CrossEntropyLoss()     #loss函数\n",
    "optimizer = torch.optim.SGD(model.parameters(), lr=0.01)  #SGD函数\n",
    "metricsf = torchmetrics.Accuracy(task='multiclass', num_classes=10)       #torchmetrics函数\n",
    "\n",
    "for i in range(100):\n",
    "    for batchX, batchY in data_loader:\n",
    "        score = model(batchX)\n",
    "        score = torch.squeeze(score)\n",
    "        loss = lossf(score, batchY)\n",
    "\n",
    "        loss.backward() #求导\n",
    "        optimizer.step() #梯度下降\n",
    "        optimizer.zero_grad() #梯度清零\n",
    "\n",
    "        mse = metricsf(score, batchY)    \n",
    "    print(loss, metricsf.compute())\n",
    "    metricsf.reset()\n"
   ]
  },
  {
   "cell_type": "code",
   "execution_count": null,
   "metadata": {},
   "outputs": [],
   "source": [
    "torch.save(model, 'model3.pth')"
   ]
  },
  {
   "cell_type": "code",
   "execution_count": null,
   "metadata": {},
   "outputs": [],
   "source": [
    "for batchX, batchY in data_loader2:\n",
    "    score = model(batchX)\n",
    "    score = torch.squeeze(score)\n",
    "    mse = metricsf(score, batchY)  \n",
    "      \n",
    "print(metricsf.compute())"
   ]
  }
 ],
 "metadata": {
  "kernelspec": {
   "display_name": "base",
   "language": "python",
   "name": "python3"
  },
  "language_info": {
   "codemirror_mode": {
    "name": "ipython",
    "version": 3
   },
   "file_extension": ".py",
   "mimetype": "text/x-python",
   "name": "python",
   "nbconvert_exporter": "python",
   "pygments_lexer": "ipython3",
   "version": "3.11.7"
  }
 },
 "nbformat": 4,
 "nbformat_minor": 2
}
