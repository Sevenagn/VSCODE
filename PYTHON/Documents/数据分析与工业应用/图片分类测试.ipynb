{
 "cells": [
  {
   "cell_type": "code",
   "execution_count": null,
   "metadata": {},
   "outputs": [],
   "source": [
    "import torch\n",
    "import numpy as np\n",
    "import matplotlib.pyplot as plt\n",
    "from torchvision.datasets import ImageFolder\n",
    "from torchvision import transforms\n"
   ]
  },
  {
   "cell_type": "code",
   "execution_count": null,
   "metadata": {},
   "outputs": [],
   "source": [
    "import torch.nn as nn\n",
    "\n",
    "class MyNet(nn.Module):\n",
    "    def __init__(self):\n",
    "        super(MyNet, self).__init__()\n",
    "        self.L1 = nn.Linear(7500,200)\n",
    "        self.L2 = nn.Linear(200,400)\n",
    "        self.L = nn.Linear(400,10)\n",
    "\n",
    "    def forward(self, x):\n",
    "        #降二维，从start_dim开始相乘\n",
    "        x = torch.flatten(x,start_dim = 1)\n",
    "        g1 = self.L1(x)\n",
    "        # f1=torch.sigmoid(g1)\n",
    "        f1=torch.relu(g1)\n",
    "\n",
    "        g2 = self.L2(f1)\n",
    "        f2 = torch.relu(g2)\n",
    "\n",
    "        g = self.L(f2)\n",
    "\n",
    "        return g\n",
    "    \n",
    "model = MyNet()"
   ]
  },
  {
   "cell_type": "code",
   "execution_count": null,
   "metadata": {},
   "outputs": [],
   "source": [
    "model = "
   ]
  },
  {
   "cell_type": "code",
   "execution_count": null,
   "metadata": {},
   "outputs": [],
   "source": [
    "im = plt.imread('model.png')\n",
    "im.shape"
   ]
  },
  {
   "cell_type": "code",
   "execution_count": null,
   "metadata": {},
   "outputs": [],
   "source": [
    "trans_compose = transforms.Compose([\n",
    "        #转换为torch数据类型\n",
    "        transforms.ToTensor(),\n",
    "        # transforms.Normalize([0.5, 0.5, 0.5], [0.5, 0.5, 0.5]),\n",
    "        # 调整图片大小\n",
    "        transforms.Resize((50,50))\n",
    "\n",
    "        ])\n",
    "im1=trans_compose(im)\n",
    "im1=im1[np.newaxis,:,:,:]\n",
    "im1.shape"
   ]
  },
  {
   "cell_type": "code",
   "execution_count": null,
   "metadata": {},
   "outputs": [],
   "source": [
    "g = model(im1)\n",
    "P = torch.softmax(g, dim=1)\n",
    "P.argmax(dim=1)"
   ]
  }
 ],
 "metadata": {
  "kernelspec": {
   "display_name": "base",
   "language": "python",
   "name": "python3"
  },
  "language_info": {
   "name": "python",
   "version": "3.11.7"
  }
 },
 "nbformat": 4,
 "nbformat_minor": 2
}
