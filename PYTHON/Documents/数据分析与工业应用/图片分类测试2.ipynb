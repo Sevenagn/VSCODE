{
 "cells": [
  {
   "cell_type": "code",
   "execution_count": 48,
   "metadata": {},
   "outputs": [],
   "source": [
    "import torch\n",
    "import numpy as np\n",
    "import matplotlib.pyplot as plt\n",
    "from torchvision.datasets import ImageFolder\n",
    "from torchvision import transforms\n"
   ]
  },
  {
   "cell_type": "code",
   "execution_count": 49,
   "metadata": {},
   "outputs": [],
   "source": [
    "import torch.nn as nn\n",
    "\n",
    "class MyNet(nn.Module):\n",
    "    def __init__(self):\n",
    "        super(MyNet, self).__init__()\n",
    "        self.L1 = nn.Conv2d(3,30,3,2,1)\n",
    "        self.B1= nn.BatchNorm2d(30)\n",
    "        self.L2 = nn.Conv2d(30,60,5,2,1)\n",
    "        self.B2= nn.BatchNorm2d(60)\n",
    "        self.L = nn.Linear(34560,10)\n",
    "\n",
    "    def forward(self, x):\n",
    "        #降二维，从start_dim开始相乘\n",
    "        # x = torch.flatten(x,start_dim = 1)\n",
    "        g1 = self.L1(x)\n",
    "        g1 = self.B1(g1)\n",
    "        # f1=torch.sigmoid(g1)\n",
    "        f1=torch.relu(g1)\n",
    "\n",
    "        g2 = self.L2(f1)\n",
    "        g2 = self.B2(g2)\n",
    "        f2 = torch.relu(g2)\n",
    "\n",
    "        f2 = torch.flatten(f2,start_dim = 1)\n",
    "\n",
    "        g = self.L(f2)\n",
    "\n",
    "        return g\n",
    "    \n",
    "model = MyNet()"
   ]
  },
  {
   "cell_type": "code",
   "execution_count": 50,
   "metadata": {},
   "outputs": [
    {
     "data": {
      "text/plain": [
       "MyNet(\n",
       "  (L1): Conv2d(3, 30, kernel_size=(3, 3), stride=(2, 2), padding=(1, 1))\n",
       "  (B1): BatchNorm2d(30, eps=1e-05, momentum=0.1, affine=True, track_running_stats=True)\n",
       "  (L2): Conv2d(30, 60, kernel_size=(5, 5), stride=(2, 2), padding=(1, 1))\n",
       "  (B2): BatchNorm2d(60, eps=1e-05, momentum=0.1, affine=True, track_running_stats=True)\n",
       "  (L): Linear(in_features=34560, out_features=10, bias=True)\n",
       ")"
      ]
     },
     "execution_count": 50,
     "metadata": {},
     "output_type": "execute_result"
    }
   ],
   "source": [
    "model = torch.load('model3.pth')\n",
    "model.eval()"
   ]
  },
  {
   "cell_type": "code",
   "execution_count": 51,
   "metadata": {},
   "outputs": [
    {
     "data": {
      "text/plain": [
       "(426, 640, 3)"
      ]
     },
     "execution_count": 51,
     "metadata": {},
     "output_type": "execute_result"
    }
   ],
   "source": [
    "im = plt.imread('e.jpeg')\n",
    "im.shape"
   ]
  },
  {
   "cell_type": "code",
   "execution_count": 52,
   "metadata": {},
   "outputs": [
    {
     "data": {
      "text/plain": [
       "torch.Size([1, 3, 100, 100])"
      ]
     },
     "execution_count": 52,
     "metadata": {},
     "output_type": "execute_result"
    }
   ],
   "source": [
    "trans_compose = transforms.Compose([\n",
    "        #转换为torch数据类型\n",
    "        transforms.ToTensor(),\n",
    "        # transforms.Normalize([0.5, 0.5, 0.5], [0.5, 0.5, 0.5]),\n",
    "        # 调整图片大小\n",
    "        transforms.Resize((100,100))\n",
    "\n",
    "        ])\n",
    "im1=trans_compose(im)\n",
    "im1=im1[np.newaxis,:,:,:]\n",
    "im1.shape"
   ]
  },
  {
   "cell_type": "code",
   "execution_count": 53,
   "metadata": {},
   "outputs": [
    {
     "data": {
      "text/plain": [
       "tensor([0])"
      ]
     },
     "execution_count": 53,
     "metadata": {},
     "output_type": "execute_result"
    }
   ],
   "source": [
    "g = model(im1)\n",
    "P = torch.softmax(g, dim=1)\n",
    "P.argmax(dim=1)"
   ]
  }
 ],
 "metadata": {
  "kernelspec": {
   "display_name": "base",
   "language": "python",
   "name": "python3"
  },
  "language_info": {
   "codemirror_mode": {
    "name": "ipython",
    "version": 3
   },
   "file_extension": ".py",
   "mimetype": "text/x-python",
   "name": "python",
   "nbconvert_exporter": "python",
   "pygments_lexer": "ipython3",
   "version": "3.11.7"
  }
 },
 "nbformat": 4,
 "nbformat_minor": 2
}
