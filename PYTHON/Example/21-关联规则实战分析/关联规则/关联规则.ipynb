{
 "cells": [
  {
   "cell_type": "markdown",
   "metadata": {},
   "source": [
    "## 关联规则\n",
    "\n",
    "- 在美国，一些年轻的父亲下班后经常要到超市去买婴儿尿布，超市也因此发现了一个规律，在购买婴儿尿布的年轻父亲们中，有30%～40%的人同时要买一些啤酒。超市随后调整了货架的摆放，把尿布和啤酒放在一起，明显增加了销售额。\n",
    "\n",
    "\n",
    "<img src=\"./img/1.png\" style=\"width:300px;height:180px;float:right\">\n",
    "\n",
    "\n",
    "- 若两个或多个变量的取值之间存在某种规律性，就称为关联\n",
    "\n",
    "\n",
    "- 关联规则是寻找在同一个事件中出现的不同项的相关性，比如在一次购买活动中所买不同商品的相关性。\n",
    "\n",
    "\n",
    "- “在购买计算机的顾客中，有30％的人也同时购买了打印机”\n"
   ]
  },
  {
   "cell_type": "markdown",
   "metadata": {},
   "source": [
    "<img src=\"./img/5.png\" style=\"width:500px;height:280px;float:left\">"
   ]
  },
  {
   "cell_type": "markdown",
   "metadata": {},
   "source": [
    "- 一个样本称为一个“事务” \n",
    "- 每个事务由多个属性来确定，这里的属性称为“项” \n",
    "- 多个项组成的集合称为“项集” \n",
    "\n",
    "#### 由k个项构成的集合\n",
    "\n",
    "- {牛奶}、{啤酒}都是1-项集；\n",
    "- {牛奶，果冻}是2-项集；\n",
    "- {啤酒，面包，牛奶}是3-项集\n",
    "\n",
    "### X==>Y含义：\n",
    "\n",
    "- X和Y是项集\n",
    "- X称为规则前项（antecedent）\n",
    "- Y称为规则后项（consequent）\n"
   ]
  },
  {
   "cell_type": "markdown",
   "metadata": {},
   "source": [
    "### 事务仅包含其涉及到的项目，而不包含项目的具体信息。\n",
    "- 在超级市场的关联规则挖掘问题中事务是顾客一次购物所购买的商品，但事务中并不包含这些商品的具体信息，如商品的数量、价格等。"
   ]
  },
  {
   "cell_type": "markdown",
   "metadata": {},
   "source": [
    "### 支持度（support）：一个项集或者规则在所有事务中出现的频率，σ(X):表示项集X的支持度计数\n",
    "\n",
    "- 项集X的支持度：s(X)=σ(X)/N\n",
    "- 规则X==>Y表示物品集X对物品集Y的支持度，也就是物品集X和物品集Y同时出现的概率\n",
    "- 某天共有100个顾客到商场购买物品，其中有30个顾客同时购买了啤酒和尿布，那么上述的关联规则的支持度就是30％"
   ]
  },
  {
   "cell_type": "markdown",
   "metadata": {},
   "source": [
    "### 置信度（confidence）：确定Y在包含X的事务中出现的频繁程度。c(X → Y) = σ(X∪Y)/σ(X)\n",
    "\n",
    "- p（Y│X）＝p（XY）/p(X)。\n",
    "- 置信度反应了关联规则的可信度—购买了项目集X中的商品的顾客同时也购买了Y中商品的可能性有多大\n",
    "- 购买薯片的顾客中有50％的人购买了可乐,则置信度为50％\n"
   ]
  },
  {
   "cell_type": "markdown",
   "metadata": {},
   "source": [
    "<img src=\"./img/4.png\" style=\"width:300px;height:150px;float:left\">\n",
    "### (X , Y)==>Z :\n",
    "\n",
    "- 支持度:交易中包含{X 、 Y 、 Z}的可能性\n",
    "\n",
    "\n",
    "- 置信度:包含{X 、 Y}的交易中也包含Z的条件概率\n",
    "\n"
   ]
  },
  {
   "cell_type": "markdown",
   "metadata": {},
   "source": [
    "### 设最小支持度为50%, 最小可信度为 50%, 则可得到 :\n",
    "- A==>C  (50%, 66.6%)\n",
    "- C==>A  (50%, 100%)"
   ]
  },
  {
   "cell_type": "markdown",
   "metadata": {},
   "source": [
    "若关联规则X->Y的支持度和置信度分别大于或等于用户指定的最小支持率minsupport和最小置信度minconfidence，则称关联规则X->Y为强关联规则，否则称关联规则X->Y为弱关联规则。\n"
   ]
  },
  {
   "cell_type": "markdown",
   "metadata": {},
   "source": [
    "### 提升度（lift）：物品集A的出现对物品集B的出现概率发生了多大的变化\n",
    "- lift（A==>B）=confidence（A==>B）/support(B)=p(B|A)/p(B)\n",
    "- 现在有**1000**个消费者，有**500**人购买了茶叶，其中有**450人同时**购买了咖啡，另**50人**没有。由于**confidence(茶叶=>咖啡)=450/500=90%**，由此可能会认为喜欢喝茶的人往往喜欢喝咖啡。但如果另外没有购买茶叶的**500人**，其中同样有**450人**购买了咖啡，同样是很高的**置信度90%**，由此得到不爱喝茶的也爱喝咖啡。这样看来，其实是否购买咖啡，与有没有购买茶叶并没有关联，两者是相互独立的，其**提升度90%/[(450+450)/1000]=1** 。\n",
    "\n",
    "由此可见，lift正是弥补了confidence的这一缺陷，if lift=1,X与Y独立，X对Y出现的可能性没有提升作用，其值越大(lift>1),则表明X对Y的提升程度越大，也表明关联性越强。"
   ]
  },
  {
   "cell_type": "markdown",
   "metadata": {},
   "source": [
    "<img src=\"./img/6.png\" style=\"width:700px;height:150px;float:left\">"
   ]
  },
  {
   "cell_type": "markdown",
   "metadata": {},
   "source": [
    "### Leverage 与 Conviction的作用和lift类似，都是值越大代表越关联\n",
    "- Leverage :P(A,B)-P(A)P(B)\n",
    "- Conviction:P(A)P(!B)/P(A,!B) "
   ]
  },
  {
   "cell_type": "markdown",
   "metadata": {},
   "source": [
    "## 使用mlxtend工具包得出频繁项集与规则\n",
    "- pip install mlxtend"
   ]
  },
  {
   "cell_type": "code",
   "execution_count": null,
   "metadata": {
    "collapsed": true
   },
   "outputs": [],
   "source": [
    "import pandas as pd\n",
    "from mlxtend.frequent_patterns import apriori\n",
    "from mlxtend.frequent_patterns import association_rules"
   ]
  },
  {
   "cell_type": "markdown",
   "metadata": {},
   "source": [
    "自定义一份购物数据集"
   ]
  },
  {
   "cell_type": "code",
   "execution_count": null,
   "metadata": {
    "collapsed": true
   },
   "outputs": [],
   "source": [
    "data = {'ID':[1,2,3,4,5,6],\n",
    "       'Onion':[1,0,0,1,1,1],\n",
    "       'Potato':[1,1,0,1,1,1],\n",
    "       'Burger':[1,1,0,0,1,1],\n",
    "       'Milk':[0,1,1,1,0,1],\n",
    "       'Beer':[0,0,1,0,1,0]}"
   ]
  },
  {
   "cell_type": "code",
   "execution_count": null,
   "metadata": {
    "collapsed": true
   },
   "outputs": [],
   "source": [
    "df = pd.DataFrame(data)\n",
    "df"
   ]
  },
  {
   "cell_type": "markdown",
   "metadata": {},
   "source": [
    "### 设置支持度 *(support)* 来选择频繁项集.\n",
    "\n",
    "- 选择最小支持度为50%\n",
    "\n",
    "- `apriori(df, min_support=0.5, use_colnames=True)`"
   ]
  },
  {
   "cell_type": "code",
   "execution_count": null,
   "metadata": {
    "collapsed": true
   },
   "outputs": [],
   "source": [
    "frequent_itemsets = apriori(df[['Onion', 'Potato', 'Burger', 'Milk', 'Beer' ]], min_support=0.50, use_colnames=True)\n",
    "frequent_itemsets"
   ]
  },
  {
   "cell_type": "markdown",
   "metadata": {},
   "source": [
    "返回的3种项集均是支持度>=50%"
   ]
  },
  {
   "cell_type": "markdown",
   "metadata": {},
   "source": [
    "### 计算规则\n",
    "\n",
    "- ```association_rules(df, metric='lift', min_threshold=1)```\n",
    "- 可以指定不同的衡量标准与最小阈值"
   ]
  },
  {
   "cell_type": "code",
   "execution_count": null,
   "metadata": {
    "collapsed": true
   },
   "outputs": [],
   "source": [
    "rules = association_rules(frequent_itemsets, metric='lift', min_threshold=1)\n",
    "rules"
   ]
  },
  {
   "cell_type": "markdown",
   "metadata": {},
   "source": [
    "返回的是各个的指标的数值，可以按照感兴趣的指标排序观察,但具体解释还得参考实际数据的含义。"
   ]
  },
  {
   "cell_type": "code",
   "execution_count": null,
   "metadata": {},
   "outputs": [],
   "source": [
    "rules [ (rules['lift'] >1.125)  & (rules['confidence']> 0.8)  ]"
   ]
  },
  {
   "cell_type": "markdown",
   "metadata": {},
   "source": [
    "这几条结果就比较有价值了：\n",
    "\n",
    "* **（洋葱和马铃薯）（汉堡和马铃薯）可以搭配着来卖**\n",
    "* **如果洋葱和汉堡都在购物篮中, 顾客买马铃薯的可能性也比较高，如果他篮子里面没有，可以推荐一下.**"
   ]
  },
  {
   "cell_type": "markdown",
   "metadata": {},
   "source": [
    "### 所有指标的计算公式："
   ]
  },
  {
   "cell_type": "markdown",
   "metadata": {},
   "source": [
    "<img src=\"tables-of-definitions-and-properties-of-association-rules-measures.png\" width='600' height='400'/>"
   ]
  },
  {
   "cell_type": "markdown",
   "metadata": {},
   "source": [
    "### 数据需转换成one-hot编码"
   ]
  },
  {
   "cell_type": "code",
   "execution_count": null,
   "metadata": {
    "collapsed": true
   },
   "outputs": [],
   "source": [
    "retail_shopping_basket = {'ID':[1,2,3,4,5,6],\n",
    "                         'Basket':[['Beer', 'Diaper', 'Pretzels', 'Chips', 'Aspirin'],\n",
    "                                   ['Diaper', 'Beer', 'Chips', 'Lotion', 'Juice', 'BabyFood', 'Milk'],\n",
    "                                   ['Soda', 'Chips', 'Milk'],\n",
    "                                   ['Soup', 'Beer', 'Diaper', 'Milk', 'IceCream'],\n",
    "                                   ['Soda', 'Coffee', 'Milk', 'Bread'],\n",
    "                                   ['Beer', 'Chips']\n",
    "                                  ]\n",
    "                         }"
   ]
  },
  {
   "cell_type": "code",
   "execution_count": null,
   "metadata": {
    "collapsed": true
   },
   "outputs": [],
   "source": [
    "retail = pd.DataFrame(retail_shopping_basket)\n",
    "# retail = retail[['ID', 'Basket']]\n",
    "# pd.options.display.max_colwidth=100\n",
    "retail"
   ]
  },
  {
   "cell_type": "markdown",
   "metadata": {},
   "source": [
    "数据集中都是字符串组成的，需要转换成数值编码"
   ]
  },
  {
   "cell_type": "code",
   "execution_count": null,
   "metadata": {},
   "outputs": [],
   "source": [
    "retail_id = retail.drop('Basket' ,1)\n",
    "retail_id"
   ]
  },
  {
   "cell_type": "code",
   "execution_count": null,
   "metadata": {},
   "outputs": [],
   "source": [
    "retail_Basket = retail.Basket.str.join(',')\n",
    "retail_Basket"
   ]
  },
  {
   "cell_type": "markdown",
   "metadata": {},
   "source": [
    "#### one-hot的基本思想\n",
    "- 将离散型特征的每一种取值都看成一种状态，若你的这一特征中有N个不相同的取值，那么我们就可以将该特征抽象成N种不同的状态\n",
    "- one-hot编码保证了每一个取值只会使得一种状态处于“激活态”，也就是说这N种状态中只有一个状态位值为1，其他状态位都是0。\n"
   ]
  },
  {
   "cell_type": "code",
   "execution_count": null,
   "metadata": {},
   "outputs": [],
   "source": [
    "retail_Basket = retail_Basket.str.get_dummies(',')\n",
    "retail_Basket"
   ]
  },
  {
   "cell_type": "code",
   "execution_count": null,
   "metadata": {},
   "outputs": [],
   "source": [
    "retail = retail_id.join(retail_Basket)\n",
    "retail"
   ]
  },
  {
   "cell_type": "code",
   "execution_count": null,
   "metadata": {
    "collapsed": true
   },
   "outputs": [],
   "source": [
    "frequent_itemsets_2 = apriori(retail.drop('ID',1), use_colnames=True)\n",
    "frequent_itemsets_2"
   ]
  },
  {
   "cell_type": "markdown",
   "metadata": {},
   "source": [
    "如果光考虑支持度support(X>Y), [Beer, Chips] 和 [Beer, Diaper] 都是很频繁的，哪一种组合更相关呢？"
   ]
  },
  {
   "cell_type": "code",
   "execution_count": null,
   "metadata": {},
   "outputs": [],
   "source": [
    "association_rules(frequent_itemsets_2, metric='lift')"
   ]
  },
  {
   "cell_type": "markdown",
   "metadata": {},
   "source": [
    "显然{Diaper, Beer}更相关一些"
   ]
  },
  {
   "cell_type": "markdown",
   "metadata": {},
   "source": [
    "### 电影题材关联\n",
    "\n",
    "数据集： [MovieLens (small)](https://grouplens.org/datasets/movielens/)"
   ]
  },
  {
   "cell_type": "code",
   "execution_count": null,
   "metadata": {
    "collapsed": true
   },
   "outputs": [],
   "source": [
    "movies = pd.read_csv('ml-latest-small/movies.csv')\n",
    "movies.head(10)"
   ]
  },
  {
   "cell_type": "markdown",
   "metadata": {},
   "source": [
    "数据中包括电影名字与电影类型的标签，第一步还是先转换成one-hot格式"
   ]
  },
  {
   "cell_type": "code",
   "execution_count": null,
   "metadata": {
    "collapsed": true
   },
   "outputs": [],
   "source": [
    "movies_ohe = movies.drop('genres',1).join(movies.genres.str.get_dummies())\n",
    "movies_ohe.head()"
   ]
  },
  {
   "cell_type": "code",
   "execution_count": null,
   "metadata": {
    "collapsed": true
   },
   "outputs": [],
   "source": [
    "pd.options.display.max_columns=100\n",
    "movies_ohe.head()"
   ]
  },
  {
   "cell_type": "code",
   "execution_count": null,
   "metadata": {},
   "outputs": [],
   "source": [
    "movies_ohe.shape"
   ]
  },
  {
   "cell_type": "markdown",
   "metadata": {},
   "source": [
    "数据集包括9125部电影，一共有20种不同类型。"
   ]
  },
  {
   "cell_type": "code",
   "execution_count": null,
   "metadata": {
    "collapsed": true
   },
   "outputs": [],
   "source": [
    "movies_ohe.set_index(['movieId','title'],inplace=True)\n",
    "movies_ohe.head()"
   ]
  },
  {
   "cell_type": "code",
   "execution_count": null,
   "metadata": {
    "collapsed": true
   },
   "outputs": [],
   "source": [
    "frequent_itemsets_movies = apriori(movies_ohe,use_colnames=True, min_support=0.025)\n",
    "frequent_itemsets_movies"
   ]
  },
  {
   "cell_type": "code",
   "execution_count": null,
   "metadata": {
    "collapsed": true
   },
   "outputs": [],
   "source": [
    "rules_movies =  association_rules(frequent_itemsets_movies, metric='lift', min_threshold=1.25)\n",
    "rules_movies"
   ]
  },
  {
   "cell_type": "code",
   "execution_count": null,
   "metadata": {},
   "outputs": [],
   "source": [
    "rules_movies[(rules_movies.lift>4)].sort_values(by=['lift'], ascending=False)"
   ]
  },
  {
   "cell_type": "markdown",
   "metadata": {},
   "source": [
    "Children和Animation 这俩题材是最相关的了，常识也可以分辨出来。"
   ]
  },
  {
   "cell_type": "code",
   "execution_count": null,
   "metadata": {},
   "outputs": [],
   "source": [
    "movies[(movies.genres.str.contains('Children')) & (~movies.genres.str.contains('Animation'))]"
   ]
  },
  {
   "cell_type": "markdown",
   "metadata": {},
   "source": [
    "具体分析还得落实到数据本身，这就需要充分理解数据才可以。"
   ]
  }
 ],
 "metadata": {
  "kernelspec": {
   "display_name": "Python 3.10.5 64-bit",
   "language": "python",
   "name": "python3"
  },
  "language_info": {
   "codemirror_mode": {
    "name": "ipython",
    "version": 3
   },
   "file_extension": ".py",
   "mimetype": "text/x-python",
   "name": "python",
   "nbconvert_exporter": "python",
   "pygments_lexer": "ipython3",
   "version": "3.10.5"
  },
  "vscode": {
   "interpreter": {
    "hash": "06d577494bdf8cb76a4644bbe9c33e78b132e35386398eebe57a598d5aeb24cf"
   }
  }
 },
 "nbformat": 4,
 "nbformat_minor": 2
}
