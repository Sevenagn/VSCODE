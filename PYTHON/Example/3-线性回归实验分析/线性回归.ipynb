{
 "cells": [
  {
   "cell_type": "markdown",
   "metadata": {},
   "source": [
    "## 线性回归"
   ]
  },
  {
   "cell_type": "markdown",
   "metadata": {},
   "source": [
    "算法推导过程中已经给出了求解方法，基于最小二乘法直接求解，但这并不是机器学习的思想，由此引入了梯度下降方法。本次实验课重点讲解其中每一步流程与实验对比分析。"
   ]
  },
  {
   "cell_type": "markdown",
   "metadata": {},
   "source": [
    "### 主要内容：\n",
    "* 线性回归方程实现\n",
    "* 梯度下降效果\n",
    "* 对比不同梯度下降策略\n",
    "* 建模曲线分析\n",
    "* 过拟合与欠拟合\n",
    "* 正则化的作用\n",
    "* 提前停止策略"
   ]
  },
  {
   "cell_type": "code",
   "execution_count": null,
   "metadata": {
    "collapsed": true
   },
   "outputs": [],
   "source": [
    "import numpy as np\n",
    "import os\n",
    "%matplotlib inline\n",
    "import matplotlib\n",
    "import matplotlib.pyplot as plt\n",
    "plt.rcParams['axes.labelsize'] = 14\n",
    "plt.rcParams['xtick.labelsize'] = 12\n",
    "plt.rcParams['ytick.labelsize'] = 12\n",
    "import warnings\n",
    "warnings.filterwarnings('ignore')\n",
    "np.random.seed(42)"
   ]
  },
  {
   "cell_type": "markdown",
   "metadata": {},
   "source": [
    "### 回归方程：\n",
    "当做是一个巧合就可以了，机器学习中核心的思想是迭代更新"
   ]
  },
  {
   "cell_type": "markdown",
   "metadata": {},
   "source": [
    "![title](./img/线性回归/1.png)"
   ]
  },
  {
   "cell_type": "code",
   "execution_count": null,
   "metadata": {
    "collapsed": true
   },
   "outputs": [],
   "source": [
    "import numpy as np\n",
    "X = 2*np.random.rand(100,1)\n",
    "y = 4+ 3*X +np.random.randn(100,1)"
   ]
  },
  {
   "cell_type": "code",
   "execution_count": null,
   "metadata": {},
   "outputs": [],
   "source": [
    "plt.plot(X,y,'b.')\n",
    "plt.xlabel('X_1')\n",
    "plt.ylabel('y')\n",
    "plt.axis([0,2,0,15])\n",
    "plt.show()"
   ]
  },
  {
   "cell_type": "code",
   "execution_count": null,
   "metadata": {
    "collapsed": true
   },
   "outputs": [],
   "source": [
    "X_b = np.c_[np.ones((100,1)),X]\n",
    "#矩阵求逆，dot内积\n",
    "theta_best = np.linalg.inv(X_b.T.dot(X_b)).dot(X_b.T).dot(y)"
   ]
  },
  {
   "cell_type": "code",
   "execution_count": null,
   "metadata": {},
   "outputs": [],
   "source": [
    "theta_best"
   ]
  },
  {
   "cell_type": "code",
   "execution_count": null,
   "metadata": {},
   "outputs": [],
   "source": [
    "X_new = np.array([[0],[2]])\n",
    "X_new_b = np.c_[np.ones((2,1)),X_new]\n",
    "y_predict = X_new_b.dot(theta_best)\n",
    "y_predict"
   ]
  },
  {
   "cell_type": "code",
   "execution_count": null,
   "metadata": {},
   "outputs": [],
   "source": [
    "plt.plot(X_new,y_predict,'r--')\n",
    "plt.plot(X,y,'b.')\n",
    "plt.axis([0,2,0,15])\n",
    "plt.show()"
   ]
  },
  {
   "cell_type": "markdown",
   "metadata": {},
   "source": [
    "### sklearn api文档：\n",
    "不用背，用到的时候现查完全够用的。\n",
    "https://scikit-learn.org/stable/modules/classes.html"
   ]
  },
  {
   "cell_type": "code",
   "execution_count": null,
   "metadata": {},
   "outputs": [],
   "source": [
    "from sklearn.linear_model import LinearRegression\n",
    "lin_reg = LinearRegression()\n",
    "lin_reg.fit(X,y)\n",
    "print (lin_reg.coef_)\n",
    "print (lin_reg.intercept_)"
   ]
  },
  {
   "cell_type": "markdown",
   "metadata": {},
   "source": [
    "### 梯度下降\n",
    "核心解决方案，不光在线性回归中能用上，还有其他算法中能用上，比如神经网络"
   ]
  },
  {
   "cell_type": "markdown",
   "metadata": {},
   "source": [
    "![title](./img/线性回归/2.png)"
   ]
  },
  {
   "cell_type": "markdown",
   "metadata": {},
   "source": [
    "#### 问题：步长太小"
   ]
  },
  {
   "cell_type": "markdown",
   "metadata": {},
   "source": [
    "![title](./img/线性回归/3.png)"
   ]
  },
  {
   "cell_type": "markdown",
   "metadata": {},
   "source": [
    "#### 问题：步长太大"
   ]
  },
  {
   "cell_type": "markdown",
   "metadata": {},
   "source": [
    "![title](./img/线性回归/4.png)"
   ]
  },
  {
   "cell_type": "markdown",
   "metadata": {},
   "source": [
    "![title](./img/线性回归/5.png)"
   ]
  },
  {
   "cell_type": "markdown",
   "metadata": {},
   "source": [
    "学习率应当尽可能小，随着迭代的进行应当越来越小。"
   ]
  },
  {
   "cell_type": "markdown",
   "metadata": {},
   "source": [
    "### 标准化的作用:\n",
    "- 拿到数据之后基本上都需要做一次标准化操作"
   ]
  },
  {
   "cell_type": "markdown",
   "metadata": {},
   "source": [
    "![title](./img/线性回归/6.png)"
   ]
  },
  {
   "cell_type": "markdown",
   "metadata": {},
   "source": [
    "### 批量梯度下降计算公式"
   ]
  },
  {
   "cell_type": "markdown",
   "metadata": {},
   "source": [
    "![title](./img/线性回归/7.png)"
   ]
  },
  {
   "cell_type": "markdown",
   "metadata": {},
   "source": [
    "### 批量梯度下降"
   ]
  },
  {
   "cell_type": "code",
   "execution_count": null,
   "metadata": {
    "collapsed": true
   },
   "outputs": [],
   "source": [
    "eta = 0.1\n",
    "n_iterations = 1000\n",
    "m = 100\n",
    "theta = np.random.randn(2,1)\n",
    "for iteration in range(n_iterations):\n",
    "    gradients = 2/m* X_b.T.dot(X_b.dot(theta)-y)\n",
    "    theta = theta - eta*gradients"
   ]
  },
  {
   "cell_type": "code",
   "execution_count": null,
   "metadata": {},
   "outputs": [],
   "source": [
    "theta"
   ]
  },
  {
   "cell_type": "code",
   "execution_count": null,
   "metadata": {},
   "outputs": [],
   "source": [
    "X_new_b.dot(theta)"
   ]
  },
  {
   "cell_type": "code",
   "execution_count": null,
   "metadata": {
    "collapsed": true
   },
   "outputs": [],
   "source": [
    "theta_path_bgd = []\n",
    "def plot_gradient_descent(theta,eta,theta_path = None):\n",
    "    m = len(X_b)\n",
    "    plt.plot(X,y,'b.')\n",
    "    n_iterations = 1000\n",
    "    for iteration in range(n_iterations):\n",
    "        y_predict = X_new_b.dot(theta)\n",
    "        plt.plot(X_new,y_predict,'b-')\n",
    "        gradients = 2/m* X_b.T.dot(X_b.dot(theta)-y)\n",
    "        theta = theta - eta*gradients\n",
    "        if theta_path is not None:\n",
    "            theta_path.append(theta)\n",
    "    plt.xlabel('X_1')\n",
    "    plt.axis([0,2,0,15])\n",
    "    plt.title('eta = {}'.format(eta))\n"
   ]
  },
  {
   "cell_type": "code",
   "execution_count": null,
   "metadata": {},
   "outputs": [],
   "source": [
    "theta = np.random.randn(2,1)\n",
    "\n",
    "plt.figure(figsize=(10,4))\n",
    "plt.subplot(131)\n",
    "plot_gradient_descent(theta,eta = 0.02)\n",
    "plt.subplot(132)\n",
    "plot_gradient_descent(theta,eta = 0.1,theta_path=theta_path_bgd)\n",
    "plt.subplot(133)\n",
    "plot_gradient_descent(theta,eta = 0.5)\n",
    "plt.show()\n"
   ]
  },
  {
   "cell_type": "markdown",
   "metadata": {},
   "source": [
    "### 随机梯度下降"
   ]
  },
  {
   "cell_type": "markdown",
   "metadata": {},
   "source": [
    "![title](./img/线性回归/8.png)"
   ]
  },
  {
   "cell_type": "code",
   "execution_count": null,
   "metadata": {},
   "outputs": [],
   "source": [
    "theta_path_sgd=[]\n",
    "m = len(X_b)\n",
    "np.random.seed(42)\n",
    "n_epochs = 50\n",
    "\n",
    "t0 = 5\n",
    "t1 = 50\n",
    "\n",
    "def learning_schedule(t):\n",
    "    return t0/(t1+t)\n",
    "\n",
    "theta = np.random.randn(2,1)\n",
    "\n",
    "for epoch in range(n_epochs):\n",
    "    for i in range(m):\n",
    "        if epoch < 10 and i<10:\n",
    "            y_predict = X_new_b.dot(theta)\n",
    "            plt.plot(X_new,y_predict,'r-')\n",
    "        random_index = np.random.randint(m)\n",
    "        xi = X_b[random_index:random_index+1]\n",
    "        yi = y[random_index:random_index+1]\n",
    "        gradients = 2* xi.T.dot(xi.dot(theta)-yi)\n",
    "        eta = learning_schedule(epoch*m+i)\n",
    "        theta = theta-eta*gradients\n",
    "        theta_path_sgd.append(theta)\n",
    "        \n",
    "plt.plot(X,y,'b.')\n",
    "plt.axis([0,2,0,15])   \n",
    "plt.show()"
   ]
  },
  {
   "cell_type": "markdown",
   "metadata": {},
   "source": [
    "### MiniBatch梯度下降"
   ]
  },
  {
   "cell_type": "code",
   "execution_count": null,
   "metadata": {
    "collapsed": true
   },
   "outputs": [],
   "source": [
    "theta_path_mgd=[]\n",
    "n_epochs = 50\n",
    "minibatch = 16\n",
    "theta = np.random.randn(2,1)\n",
    "t0, t1 = 200, 1000\n",
    "def learning_schedule(t):\n",
    "    return t0 / (t + t1)\n",
    "np.random.seed(42)\n",
    "t = 0\n",
    "for epoch in range(n_epochs):\n",
    "    shuffled_indices = np.random.permutation(m)\n",
    "    X_b_shuffled = X_b[shuffled_indices]\n",
    "    y_shuffled = y[shuffled_indices]\n",
    "    for i in range(0,m,minibatch):\n",
    "        t+=1\n",
    "        xi = X_b_shuffled[i:i+minibatch]\n",
    "        yi = y_shuffled[i:i+minibatch]\n",
    "        gradients = 2/minibatch* xi.T.dot(xi.dot(theta)-yi)\n",
    "        eta = learning_schedule(t)\n",
    "        theta = theta-eta*gradients\n",
    "        theta_path_mgd.append(theta)"
   ]
  },
  {
   "cell_type": "code",
   "execution_count": null,
   "metadata": {},
   "outputs": [],
   "source": [
    "theta"
   ]
  },
  {
   "cell_type": "markdown",
   "metadata": {
    "collapsed": true
   },
   "source": [
    "### 3种策略的对比实验"
   ]
  },
  {
   "cell_type": "code",
   "execution_count": null,
   "metadata": {
    "collapsed": true
   },
   "outputs": [],
   "source": [
    "theta_path_bgd = np.array(theta_path_bgd)\n",
    "theta_path_sgd = np.array(theta_path_sgd)\n",
    "theta_path_mgd = np.array(theta_path_mgd)"
   ]
  },
  {
   "cell_type": "code",
   "execution_count": null,
   "metadata": {},
   "outputs": [],
   "source": [
    "plt.figure(figsize=(12,6))\n",
    "plt.plot(theta_path_sgd[:,0],theta_path_sgd[:,1],'r-s',linewidth=1,label='SGD')\n",
    "plt.plot(theta_path_mgd[:,0],theta_path_mgd[:,1],'g-+',linewidth=2,label='MINIGD')\n",
    "plt.plot(theta_path_bgd[:,0],theta_path_bgd[:,1],'b-o',linewidth=3,label='BGD')\n",
    "plt.legend(loc='upper left')\n",
    "plt.axis([3.5,4.5,2.0,4.0])\n",
    "plt.show()\n"
   ]
  },
  {
   "cell_type": "markdown",
   "metadata": {},
   "source": [
    "实际当中用minibatch比较多，一般情况下选择batch数量应当越大越好。"
   ]
  },
  {
   "cell_type": "markdown",
   "metadata": {
    "collapsed": true
   },
   "source": [
    "### 多项式回归"
   ]
  },
  {
   "cell_type": "code",
   "execution_count": null,
   "metadata": {
    "collapsed": true
   },
   "outputs": [],
   "source": [
    "m = 100\n",
    "X = 6*np.random.rand(m,1) - 3\n",
    "y = 0.5*X**2+X+np.random.randn(m,1)"
   ]
  },
  {
   "cell_type": "code",
   "execution_count": null,
   "metadata": {},
   "outputs": [],
   "source": [
    "plt.plot(X,y,'b.')\n",
    "plt.xlabel('X_1')\n",
    "plt.ylabel('y')\n",
    "plt.axis([-3,3,-5,10])\n",
    "plt.show()"
   ]
  },
  {
   "cell_type": "code",
   "execution_count": null,
   "metadata": {},
   "outputs": [],
   "source": [
    "from sklearn.preprocessing import PolynomialFeatures\n",
    "poly_features = PolynomialFeatures(degree = 2,include_bias = False)\n",
    "X_poly = poly_features.fit_transform(X)\n",
    "X[0]"
   ]
  },
  {
   "cell_type": "code",
   "execution_count": null,
   "metadata": {},
   "outputs": [],
   "source": [
    "X_poly[0]"
   ]
  },
  {
   "cell_type": "code",
   "execution_count": null,
   "metadata": {},
   "outputs": [],
   "source": [
    "2.82919615 ** 2"
   ]
  },
  {
   "cell_type": "code",
   "execution_count": null,
   "metadata": {},
   "outputs": [],
   "source": [
    "from sklearn.linear_model import LinearRegression\n",
    "lin_reg = LinearRegression()\n",
    "lin_reg.fit(X_poly,y)\n",
    "print (lin_reg.coef_)\n",
    "print (lin_reg.intercept_)"
   ]
  },
  {
   "cell_type": "code",
   "execution_count": null,
   "metadata": {},
   "outputs": [],
   "source": [
    "X_new = np.linspace(-3,3,100).reshape(100,1)\n",
    "X_new_poly = poly_features.transform(X_new)\n",
    "y_new = lin_reg.predict(X_new_poly)\n",
    "plt.plot(X,y,'b.')\n",
    "plt.plot(X_new,y_new,'r--',label='prediction')\n",
    "plt.axis([-3,3,-5,10])\n",
    "plt.legend()\n",
    "plt.show()"
   ]
  },
  {
   "cell_type": "code",
   "execution_count": null,
   "metadata": {},
   "outputs": [],
   "source": [
    "from sklearn.pipeline import Pipeline\n",
    "from sklearn.preprocessing import StandardScaler\n",
    "plt.figure(figsize=(12,6))\n",
    "for style,width,degree in (('g-',1,100),('b--',1,2),('r-+',1,1)):\n",
    "    poly_features = PolynomialFeatures(degree = degree,include_bias = False)\n",
    "    std = StandardScaler()\n",
    "    lin_reg = LinearRegression()\n",
    "    polynomial_reg = Pipeline([('poly_features',poly_features),\n",
    "             ('StandardScaler',std),\n",
    "             ('lin_reg',lin_reg)])\n",
    "    polynomial_reg.fit(X,y)\n",
    "    y_new_2 = polynomial_reg.predict(X_new)\n",
    "    plt.plot(X_new,y_new_2,style,label = 'degree   '+str(degree),linewidth = width)\n",
    "plt.plot(X,y,'b.')\n",
    "plt.axis([-3,3,-5,10])\n",
    "plt.legend()\n",
    "plt.show()"
   ]
  },
  {
   "cell_type": "markdown",
   "metadata": {},
   "source": [
    "特征变换的越复杂，得到的结果过拟合风险越高，不建议做的特别复杂。"
   ]
  },
  {
   "cell_type": "markdown",
   "metadata": {},
   "source": [
    "### 数据样本数量对结果的影响"
   ]
  },
  {
   "cell_type": "code",
   "execution_count": null,
   "metadata": {
    "collapsed": true
   },
   "outputs": [],
   "source": [
    "from sklearn.metrics import mean_squared_error\n",
    "from sklearn.model_selection import train_test_split\n",
    "\n",
    "def plot_learning_curves(model,X,y):\n",
    "    X_train, X_val, y_train, y_val = train_test_split(X,y,test_size = 0.2,random_state=100)\n",
    "    train_errors,val_errors = [],[]\n",
    "    for m in range(1,len(X_train)):\n",
    "        model.fit(X_train[:m],y_train[:m])\n",
    "        y_train_predict = model.predict(X_train[:m])\n",
    "        y_val_predict = model.predict(X_val)\n",
    "        train_errors.append(mean_squared_error(y_train[:m],y_train_predict[:m]))\n",
    "        val_errors.append(mean_squared_error(y_val,y_val_predict))\n",
    "    plt.plot(np.sqrt(train_errors),'r-+',linewidth = 2,label = 'train_error')\n",
    "    plt.plot(np.sqrt(val_errors),'b-',linewidth = 3,label = 'val_error')\n",
    "    plt.xlabel('Trainsing set size')\n",
    "    plt.ylabel('RMSE')\n",
    "    plt.legend()"
   ]
  },
  {
   "cell_type": "code",
   "execution_count": null,
   "metadata": {},
   "outputs": [],
   "source": [
    "lin_reg = LinearRegression()\n",
    "plot_learning_curves(lin_reg,X,y)\n",
    "plt.axis([0,80,0,3.3])\n",
    "plt.show()"
   ]
  },
  {
   "cell_type": "markdown",
   "metadata": {},
   "source": [
    "数据量越少，训练集的效果会越好，但是实际测试效果很一般。实际做模型的时候需要参考测试集和验证集的效果。"
   ]
  },
  {
   "cell_type": "markdown",
   "metadata": {},
   "source": [
    "### 多项式回归的过拟合风险"
   ]
  },
  {
   "cell_type": "code",
   "execution_count": null,
   "metadata": {},
   "outputs": [],
   "source": [
    "polynomial_reg = Pipeline([('poly_features',PolynomialFeatures(degree = 25,include_bias = False)),\n",
    "             ('lin_reg',LinearRegression())])\n",
    "plot_learning_curves(polynomial_reg,X,y)\n",
    "plt.axis([0,80,0,5])\n",
    "plt.show()"
   ]
  },
  {
   "cell_type": "markdown",
   "metadata": {},
   "source": [
    "越复杂越过拟合"
   ]
  },
  {
   "cell_type": "markdown",
   "metadata": {},
   "source": [
    "### 正则化"
   ]
  },
  {
   "cell_type": "markdown",
   "metadata": {},
   "source": [
    "对权重参数进行惩罚，让权重参数尽可能平滑一些，有两种不同的方法来进行正则化惩罚:"
   ]
  },
  {
   "cell_type": "markdown",
   "metadata": {},
   "source": [
    "![title](./img/线性回归/9.png)"
   ]
  },
  {
   "cell_type": "code",
   "execution_count": null,
   "metadata": {},
   "outputs": [],
   "source": [
    "from sklearn.linear_model import Ridge\n",
    "np.random.seed(42)\n",
    "m = 20\n",
    "X = 3*np.random.rand(m,1)\n",
    "y = 0.5 * X +np.random.randn(m,1)/1.5 +1\n",
    "X_new = np.linspace(0,3,100).reshape(100,1)\n",
    "\n",
    "def plot_model(model_calss,polynomial,alphas,**model_kargs):\n",
    "    for alpha,style in zip(alphas,('b-','g--','r:')):\n",
    "        model = model_calss(alpha,**model_kargs)\n",
    "        if polynomial:\n",
    "            model = Pipeline([('poly_features',PolynomialFeatures(degree =10,include_bias = False)),\n",
    "             ('StandardScaler',StandardScaler()),\n",
    "             ('lin_reg',model)])\n",
    "        model.fit(X,y)\n",
    "        y_new_regul = model.predict(X_new)\n",
    "        lw = 2 if alpha > 0 else 1\n",
    "        plt.plot(X_new,y_new_regul,style,linewidth = lw,label = 'alpha = {}'.format(alpha))\n",
    "    plt.plot(X,y,'b.',linewidth =3)\n",
    "    plt.legend()\n",
    "\n",
    "plt.figure(figsize=(14,6))\n",
    "plt.subplot(121)\n",
    "plot_model(Ridge,polynomial=False,alphas = (0,10,100))\n",
    "plt.subplot(122)\n",
    "plot_model(Ridge,polynomial=True,alphas = (0,10**-5,1))\n",
    "plt.show()"
   ]
  },
  {
   "cell_type": "markdown",
   "metadata": {},
   "source": [
    "惩罚力度越大，alpha值越大的时候，得到的决策方程越平稳。"
   ]
  },
  {
   "cell_type": "markdown",
   "metadata": {
    "collapsed": true
   },
   "source": [
    "![title](./img/线性回归/10.png)"
   ]
  },
  {
   "cell_type": "code",
   "execution_count": null,
   "metadata": {},
   "outputs": [],
   "source": [
    "from sklearn.linear_model import Lasso\n",
    "\n",
    "plt.figure(figsize=(14,6))\n",
    "plt.subplot(121)\n",
    "plot_model(Lasso,polynomial=False,alphas = (0,0.1,1))\n",
    "plt.subplot(122)\n",
    "plot_model(Lasso,polynomial=True,alphas = (0,10**-1,1))\n",
    "plt.show()"
   ]
  },
  {
   "cell_type": "markdown",
   "metadata": {
    "collapsed": true
   },
   "source": [
    "多做实验，得出结果！！！"
   ]
  }
 ],
 "metadata": {
  "kernelspec": {
   "display_name": "Python 3.10.5 64-bit",
   "language": "python",
   "name": "python3"
  },
  "language_info": {
   "codemirror_mode": {
    "name": "ipython",
    "version": 3
   },
   "file_extension": ".py",
   "mimetype": "text/x-python",
   "name": "python",
   "nbconvert_exporter": "python",
   "pygments_lexer": "ipython3",
   "version": "3.10.5"
  },
  "vscode": {
   "interpreter": {
    "hash": "06d577494bdf8cb76a4644bbe9c33e78b132e35386398eebe57a598d5aeb24cf"
   }
  }
 },
 "nbformat": 4,
 "nbformat_minor": 2
}
